{
 "cells": [
  {
   "cell_type": "code",
   "execution_count": 1,
   "id": "ed58ff20-98ac-4e29-952c-ca6e6344c844",
   "metadata": {},
   "outputs": [
    {
     "name": "stdout",
     "output_type": "stream",
     "text": [
      "importing ngsxfem-2.1.2405\n"
     ]
    }
   ],
   "source": [
    "import numpy as np\n",
    "from ngsolve import *\n",
    "from netgen.occ import *\n",
    "from netgen.geom2d import SplineGeometry\n",
    "from ngsolve.internal import *\n",
    "from xfem import *\n",
    "import numpy as np\n",
    "import ipywidgets\n",
    "from ngsolve.solvers import *\n",
    "from ngsolve.webgui import Draw"
   ]
  },
  {
   "cell_type": "code",
   "execution_count": 2,
   "id": "33577ba2-4f1d-4a16-8fd9-bf9de2a0054d",
   "metadata": {},
   "outputs": [
    {
     "name": "stdout",
     "output_type": "stream",
     "text": [
      "Snapshots: 150   per-snapshot DOFs: 174723\n",
      "Vel DOFs: 116482   Press DOFs: 14789\n",
      "0\n",
      "100\n",
      "200\n",
      "300\n",
      "400\n",
      "500\n",
      "600\n",
      "700\n",
      "800\n",
      "900\n",
      "1000\n",
      "1100\n",
      "1200\n",
      "1300\n",
      "1400\n",
      "1500\n",
      "1600\n",
      "1700\n",
      "1800\n",
      "1900\n",
      "\n",
      "Simulation complete!\n"
     ]
    }
   ],
   "source": [
    "\n",
    "from ngsolve import *\n",
    "import numpy as np\n",
    "\n",
    "# ---------------- 0) Mesh & FE spaces ----------------\n",
    "mesh  = Mesh(\"mesh.vol\")\n",
    "\n",
    "L     = H1(mesh, order=1)                         # phase φ space\n",
    "Vh    = VectorH1(mesh, order=2)                   # velocity u space\n",
    "Qh    = H1(mesh, order=1, dirichlet=\"Liq_Outlet_a\")  # pressure\n",
    "C     = H1(mesh, order=1, dirichlet=\"Gas_Inlet\")  # CO2 space\n",
    "\n",
    "phi   = GridFunction(L,  name=\"phi\")\n",
    "u     = GridFunction(Vh, name=\"u\")\n",
    "p     = GridFunction(Qh, name=\"p\")\n",
    "c     = GridFunction(C,  name=\"c\")                # unknown CO2\n",
    "c_old = GridFunction(C,  name=\"c_old\")\n",
    "\n",
    "# ---------------- 1) Load snapshots ----------------\n",
    "U_data   = np.load(\"U_snap_freq60.5Hz.npy.npz\")['arr_0']\n",
    "Phi_data = np.load(\"Phi_snap_freq60.5Hz.npy.npz\")['arr_0']\n",
    "\n",
    "\n",
    "n_dof_p = p.vec.size\n",
    "n_dof_u = u.vec.size\n",
    "print(\"Snapshots:\", U_data.shape[0], \"  per-snapshot DOFs:\", U_data.shape[1])\n",
    "print(\"Vel DOFs:\", n_dof_u, \"  Press DOFs:\", n_dof_p)\n",
    "\n",
    "snapshot_idx = 120\n",
    "phi.vec.FV().NumPy()[:] = Phi_data[snapshot_idx, :]\n",
    "u.vec.FV().NumPy()[:]   = U_data[snapshot_idx, :n_dof_u]\n",
    "p.vec.FV().NumPy()[:]   = U_data[snapshot_idx, n_dof_u:n_dof_u+n_dof_p]\n",
    "\n",
    "# ---------------- 2) One-fluid ingredients ----------------\n",
    "# Interface thickness ~ 2–3 element sizes\n",
    "h_avg  = float(Integrate(specialcf.mesh_size, mesh)) / float(Integrate(1, mesh))\n",
    "eps_if = Parameter(2.5*h_avg)\n",
    "\n",
    "# Smooth Heaviside via logistic; then PROJECT to H1 so grad() is available\n",
    "alpha_expr = 1.0 / (1.0 + exp(-phi/eps_if))\n",
    "alphaL = GridFunction(L, name=\"alphaL\")\n",
    "alphaL.Set(alpha_expr)                         # projection/interpolation\n",
    "\n",
    "tiny   = 1e-12\n",
    "aL     = IfPos(alphaL - tiny, alphaL, tiny)\n",
    "one_m  = IfPos(1-aL - tiny, 1-aL, tiny)\n",
    "grad_aL = grad(alphaL)                         # valid because alphaL is a GF\n",
    "\n",
    "# ---------------- 3) Physical parameters ----------------\n",
    "# Molecular diffusivities\n",
    "Dil = Parameter(2.0e-9)                        # m^2/s (CO2 in water)\n",
    "Dig = Parameter(1.5e-5)                        # m^2/s (CO2 in air)\n",
    "\n",
    "# Henry's constant (dimensionless): k_i = c_ig^* / c_il^*\n",
    "# For CO2: typically k ~ 0.8-1.2 (gas/liquid concentration ratio at equilibrium)\n",
    "kH = Parameter(1.0)\n",
    "\n",
    "# Reaction parameters (CO2–MEA)\n",
    "T      = Parameter(298.15)                      # K\n",
    "phiMEA = Parameter(0.30)                        # MEA mole fraction\n",
    "thetaL = Parameter(0.10)                        # CO2 loading\n",
    "KCO2   = Parameter(1.0e-5)                      # equilibrium constant\n",
    "Rgas   = 8.314462618                            # J/(mol K)\n",
    "cMEA   = Parameter(1000.0)                      # mol/m^3 (MEA concentration)\n",
    "\n",
    "# Advection velocity (imported flow)\n",
    "v_adv = u\n",
    "\n",
    "# ---------------- 4) Derived quantities ----------------\n",
    "\n",
    "# Harmonic mean diffusivity across phases: Eq. after (19)\n",
    "# D_i = (α_L * D_il * D_ig) / (α_L * D_ig + (1-α_L) * D_il)\n",
    "Di = (aL * Dil * Dig) / (aL * Dig + one_m * Dil + tiny)\n",
    "\n",
    "# Reaction rate constant: Eq. (21)\n",
    "r = exp(20.54 - 5612.91/T)\n",
    "\n",
    "# Equilibrium concentration: Eq. (22)\n",
    "# c_CO2(eq) = (30.96 - 10584/T - 7.187*φ_MEA) * θ²/((1-2θ)²) * 1/(K_CO2*R*T)\n",
    "theta_term = (thetaL**2) / ((1 - 2*thetaL)**2 + tiny)\n",
    "c_eq = exp(30.96 - 10584/T - 7.187*phiMEA) * theta_term / (KCO2 * Rgas * T)\n",
    "# ---------------- 5) Interface drift term Γ ----------------\n",
    "# From the paper: Γ_i = -D_i * (c_i(1-k_i))/(α_L + k_i(1-α_L)) * ∇α_L\n",
    "# Note: This is POSITIVE for transport FROM liquid TO gas when k<1\n",
    "def Gamma_of(c_field):\n",
    "    denominator = aL + kH * one_m + tiny\n",
    "    # Fixed sign: should be MINUS as per Eq. (19)\n",
    "    return -Di * (c_field * (1 - kH)) / denominator * grad_aL\n",
    "\n",
    "# ---------------- 6) Reaction term W ----------------\n",
    "# Eq. (20): W_CO2 = r(c_CO2 - c_CO2(eq)) * c_MEA * α_L\n",
    "# Only active in liquid phase (α_L factor)\n",
    "def W_of(c_field):\n",
    "    return r * (c_field - c_eq) * cMEA * aL\n",
    "\n",
    "# ---------------- 7) Time stepping (semi-implicit) ----------------\n",
    "dt = 3e-4\n",
    "c_trial, w = C.TnT()\n",
    "\n",
    "# Dirichlet BC on Liq_Inlet (e.g., inlet CO2 concentration)\n",
    "c_in = Parameter(10.0)  # mol/m^3\n",
    "\n",
    "# Helper for Dirichlet data\n",
    "gD = GridFunction(C, name=\"gD\")\n",
    "gD.vec.FV().NumPy()[:] = 0.0\n",
    "gD.Set(c_in, definedon=mesh.Boundaries(\"Gas_Inlet\"))\n",
    "\n",
    "# Initial condition\n",
    "c.vec.FV().NumPy()[:] = 0.0\n",
    "\n",
    "nsteps = 2000\n",
    "\n",
    "with TaskManager():\n",
    "    for step in range(nsteps):\n",
    "        #print(f\"\\n=== ADR step {step+1}/{nsteps} ===\")\n",
    "\n",
    "        # Store old solution for explicit terms\n",
    "        c_old.vec.data = c.vec\n",
    "        \n",
    "        # Evaluate explicit terms at old time level\n",
    "        Gamma_prev = Gamma_of(c_old)\n",
    "        W_prev     = W_of(c_old)\n",
    "\n",
    "        # Apply Dirichlet BC (lifting)\n",
    "        c.Set(gD, definedon=mesh.Boundaries(\"Gas_Inlet\"))\n",
    "\n",
    "        # Build bilinear form (implicit terms)\n",
    "        a = BilinearForm(C, symmetric=False)\n",
    "        L = LinearForm(C)\n",
    "\n",
    "        # Time derivative: (c^{n+1} - c^n)/dt\n",
    "        a += (1.0/dt) * c_trial * w * dx\n",
    "        L += (1.0/dt) * c_old * w * dx\n",
    "\n",
    "        # Advection: u·∇c (implicit in c)\n",
    "        a += (v_adv * grad(c_trial)) * w * dx\n",
    "\n",
    "        # Diffusion: D_i ∇c·∇w (implicit in c)\n",
    "        a += Di * grad(c_trial) * grad(w) * dx\n",
    "\n",
    "\n",
    "        #SUPG TERM TO STABILIZE IN HIGH VELOITYR EGIONS\n",
    "        h = specialcf.mesh_size\n",
    "        nrm_u = Norm(v_adv)\n",
    "        tau_supg = h / (2*nrm_u + 1e-12)\n",
    "        \n",
    "        # Add SUPG term:\n",
    "        a += tau_supg * (v_adv * grad(c_trial)) * (v_adv * grad(w)) * dx\n",
    "\n",
    "\n",
    "        # Interface drift: -∇·Γ → weak form: ∫ Γ·∇w (explicit)\n",
    "        L += Gamma_prev * grad(w) * dx\n",
    "\n",
    "        # Reaction: W (explicit, source term)\n",
    "        L += W_prev * w * dx\n",
    "\n",
    "        # Assemble system\n",
    "        a.Assemble()\n",
    "        L.Assemble()\n",
    "\n",
    "        # Solve: A*(c^{n+1} - c_D) = b - A*c_D\n",
    "        # where c_D contains the Dirichlet data\n",
    "        rhs = L.vec.CreateVector()\n",
    "        rhs.data = L.vec - a.mat * c.vec\n",
    "\n",
    "        # Solve on free DOFs\n",
    "        inv = a.mat.Inverse(C.FreeDofs())\n",
    "        c.vec.data += inv * rhs\n",
    "\n",
    "        # Clip negatives in place\n",
    "        arr = c.vec.FV().NumPy()\n",
    "        arr[arr < 0.0] = 0.0   # modifies c.vec directly\n",
    "        arr[arr > 10.0] = 10.0   # modifies c.vec directly\n",
    "        # Now c is guaranteed nonnegative\n",
    "        c_min = np.min(arr)\n",
    "        c_max = np.max(arr)\n",
    "        c_mean = Integrate(c, mesh) / Integrate(1, mesh)\n",
    "        #print(f\"  c_CO2: min={c_min:.6e}, max={c_max:.6e}, mean={c_mean:.6e}\")\n",
    "\n",
    "        if step % 100 == 0:\n",
    "            print(step)\n",
    "print(\"\\nSimulation complete!\")\n",
    "\n",
    "# Optional visualization\n",
    "# Draw(alphaL, mesh, \"alphaL\")\n",
    "# Draw(u, mesh, \"velocity\")\n",
    "# Draw(c, mesh, \"c_CO2\")\n"
   ]
  },
  {
   "cell_type": "code",
   "execution_count": 3,
   "id": "498e238b-330a-4744-82e3-7d9fc3b63384",
   "metadata": {},
   "outputs": [
    {
     "data": {
      "text/plain": [
       "(150, 174723)"
      ]
     },
     "execution_count": 3,
     "metadata": {},
     "output_type": "execute_result"
    }
   ],
   "source": [
    "U_data.shape"
   ]
  },
  {
   "cell_type": "code",
   "execution_count": 4,
   "id": "336b39da-4964-405a-b9e6-d89e12b53796",
   "metadata": {},
   "outputs": [
    {
     "data": {
      "text/plain": [
       "1999"
      ]
     },
     "execution_count": 4,
     "metadata": {},
     "output_type": "execute_result"
    }
   ],
   "source": [
    "step"
   ]
  },
  {
   "cell_type": "code",
   "execution_count": 5,
   "id": "0533c839-6439-4f76-9c2d-a640ed0bd7c9",
   "metadata": {},
   "outputs": [
    {
     "data": {
      "application/vnd.jupyter.widget-view+json": {
       "model_id": "6b4c4ff231f344cd9d9c215cd4896472",
       "version_major": 2,
       "version_minor": 0
      },
      "text/plain": [
       "WebGuiWidget(layout=Layout(height='50vh', width='100%'), value={'gui_settings': {}, 'ngsolve_version': '6.2.24…"
      ]
     },
     "metadata": {},
     "output_type": "display_data"
    },
    {
     "data": {
      "text/plain": [
       "BaseWebGuiScene"
      ]
     },
     "execution_count": 5,
     "metadata": {},
     "output_type": "execute_result"
    }
   ],
   "source": [
    "from ngsolve.webgui import Draw\n",
    "Draw(c)"
   ]
  },
  {
   "cell_type": "code",
   "execution_count": 6,
   "id": "caed2fb1-0a28-4bac-bd7b-ac01b96311bc",
   "metadata": {},
   "outputs": [
    {
     "data": {
      "application/vnd.jupyter.widget-view+json": {
       "model_id": "163da771b7384f7199640fea0a7ce655",
       "version_major": 2,
       "version_minor": 0
      },
      "text/plain": [
       "WebGuiWidget(layout=Layout(height='50vh', width='100%'), value={'gui_settings': {}, 'ngsolve_version': '6.2.24…"
      ]
     },
     "metadata": {},
     "output_type": "display_data"
    },
    {
     "data": {
      "text/plain": [
       "BaseWebGuiScene"
      ]
     },
     "execution_count": 6,
     "metadata": {},
     "output_type": "execute_result"
    }
   ],
   "source": [
    "Draw(u)"
   ]
  },
  {
   "cell_type": "code",
   "execution_count": null,
   "id": "740002a9-98e8-4fa1-975c-0c4808ba6dff",
   "metadata": {},
   "outputs": [],
   "source": []
  }
 ],
 "metadata": {
  "kernelspec": {
   "display_name": "Python 3 (ipykernel)",
   "language": "python",
   "name": "python3"
  },
  "language_info": {
   "codemirror_mode": {
    "name": "ipython",
    "version": 3
   },
   "file_extension": ".py",
   "mimetype": "text/x-python",
   "name": "python",
   "nbconvert_exporter": "python",
   "pygments_lexer": "ipython3",
   "version": "3.11.2"
  }
 },
 "nbformat": 4,
 "nbformat_minor": 5
}
