{
 "cells": [
  {
   "cell_type": "code",
   "execution_count": 1,
   "id": "20bd8573-4b7b-4aa7-b048-1247d5a7bcd6",
   "metadata": {},
   "outputs": [],
   "source": [
    "from ngsolve import *\n",
    "from ngsolve.webgui import Draw\n",
    "from netgen.occ import *\n",
    "from netgen.geom2d import SplineGeometry\n",
    "from ngsolve.internal import *\n",
    "import numpy as np\n"
   ]
  },
  {
   "cell_type": "code",
   "execution_count": 2,
   "id": "d6d217dd-4352-4bf6-aabd-71d7c97a035d",
   "metadata": {},
   "outputs": [],
   "source": [
    "mesh = Mesh(\"mesh.vol\")\n",
    "\n",
    "\n",
    "# --- Load your snapshots (check shapes!) ---\n",
    "U_snap_full  = np.load(\"U_snap_freq60.0Hz.npy.npz\")[\"arr_0\"]   # shape (n_steps, ndofs*dim) or (n_steps, ndofs, 2)\n",
    "Phi_snap_full= np.load(\"Phi_snap_freq60.0Hz.npy.npz\")[\"arr_0\"] # shape (n_steps, ndofs)\n",
    "T_snap_full = np.load(\"times_freq60.0Hz.npy.npz\")[\"arr_0\"]            # optional: times, to recover dt_NS\n",
    "\n",
    "U_snap = U_snap_full[::3]\n",
    "Phi_snap = Phi_snap_full[::3]\n",
    "T_snap = T_snap_full[::3]\n",
    "n_steps = Phi_snap.shape[0]\n",
    "\n",
    "# Suppose your velocity space Vv and pressure space Qp are same as in NS sim\n",
    "Vv = VectorH1(mesh, order=2)\n",
    "Qp = H1(mesh, order=1)\n",
    "V1 = H1(mesh, order=1,dirichlet=\"Gas_Inlet|Liq_Inlet\")              # scalar fields: phi, alpha, concentration\n",
    "c_trial, v_test = V1.TnT()\n",
    "\n",
    "# --- GridFunctions for replayed flow & fields ---\n",
    "u_gfu   = GridFunction(Vv)    # precomputed velocity\n",
    "phi_gfu = GridFunction(V1)    # precomputed level-set (or any phase indicator)\n",
    "c       = GridFunction(V1)    # unknown: dissolved CO2 concentration (mol/m^3)\n",
    "\n",
    "\n",
    "\n",
    "\n",
    "\n",
    "\n",
    "\n",
    "# DOF counts\n",
    "n_vel_dofs = Vv.ndof\n",
    "n_p_dofs   = Qp.ndof\n",
    "\n",
    "def set_state(step):\n",
    "    sol = U_snap[step]   # shape (ndofs_total,)\n",
    "    u_part = sol[:n_vel_dofs]\n",
    "    p_part = sol[n_vel_dofs:]  # not used here, but you can save it\n",
    "\n",
    "    # assign only velocity into u_gfu\n",
    "    u_gfu.vec.FV().NumPy()[:] = u_part\n",
    "    phi_gfu.vec.FV().NumPy()[:] = Phi_snap[step]\n",
    "\n",
    "from ngsolve import exp   # <-- this is the right one\n",
    "\n",
    "set_state(0)\n",
    "g_in = CoefficientFunction(4.9)\n",
    "c.Set(g_in, definedon=mesh.Boundaries(\"Gas_Inlet\"))"
   ]
  },
  {
   "cell_type": "code",
   "execution_count": null,
   "id": "026298a5-d0ff-4276-bbd6-69e94818cc15",
   "metadata": {},
   "outputs": [],
   "source": [
    "\n"
   ]
  },
  {
   "cell_type": "code",
   "execution_count": 3,
   "id": "cef96927-e32f-4b55-9ce1-dd972aabf57a",
   "metadata": {},
   "outputs": [
    {
     "data": {
      "application/vnd.jupyter.widget-view+json": {
       "model_id": "bfd463852ff84ee6818517092b671453",
       "version_major": 2,
       "version_minor": 0
      },
      "text/plain": [
       "WebGuiWidget(layout=Layout(height='50vh', width='100%'), value={'gui_settings': {}, 'ngsolve_version': '6.2.24…"
      ]
     },
     "metadata": {},
     "output_type": "display_data"
    },
    {
     "data": {
      "text/plain": [
       "BaseWebGuiScene"
      ]
     },
     "execution_count": 3,
     "metadata": {},
     "output_type": "execute_result"
    }
   ],
   "source": [
    "Draw(c,mesh)"
   ]
  },
  {
   "cell_type": "code",
   "execution_count": 4,
   "id": "2e0ea1ea-d25c-435e-9517-2eae52a7e947",
   "metadata": {},
   "outputs": [],
   "source": [
    "# --- Model params (same as you had; fill your real numbers) ---\n",
    "dt       = CoefficientFunction(5e-4)   # your NS timestep\n",
    "D_L      = Parameter(1.5e-9)           # tweak lower if MEA viscous\n",
    "D_g      = Parameter(1.5e-5)\n",
    "k_CO2    = Parameter(1.0)              \n",
    "R_gas    = 8.3145\n",
    "T_const  = Parameter(315.0)            # 42 °C\n",
    "phi_MEA  = Parameter(0.094)            # mole fraction\n",
    "theta    = Parameter(0.30)\n",
    "c_MEA    = Parameter(4000.0)           # mol/m³\n",
    "\n",
    "\n",
    "r_T  = exp(20.54 - 5612.91/T_const)\n",
    "c_eq = (30.96 - 10584.0/T_const - 7.1878*phi_MEA) \\\n",
    "       * (theta*theta)/((1.0-theta)**2) * 1.0/(k_CO2*R_gas*T_const)\n",
    "\n",
    "# Map Allen–Cahn φ → volume fraction αL (no extra smoothing)\n",
    "alpha_L = 0.5*(1.0 + phi_gfu)     # if φ∈[-1,1]; else alpha_L = phi_gfu\n",
    "\n",
    "# One-fluid harmonic diffusivity (pure CF expression)\n",
    "D_harm = (D_L*D_g) / ( alpha_L*D_g + (1.0-alpha_L)*D_L )\n",
    "\n",
    "# --- Weak forms (keep all grad(...) inline) ---\n",
    "a = BilinearForm(V1)\n",
    "a += (1.0/dt) * c_trial * v_test * dx\n",
    "a += D_harm * grad(c_trial) * grad(v_test) * dx\n",
    "\n",
    "# Advection in conservative form: (u c, ∇v)\n",
    "a += InnerProduct(u_gfu, grad(v_test)) * c_trial * dx\n",
    "\n",
    "# Implicit part of reaction: + r c_MEA αL c^{n+1}\n",
    "a += (r_T * c_MEA * alpha_L) * c_trial * v_test * dx\n",
    "\n",
    "L = LinearForm(V1)\n",
    "L += (1.0/dt) * c * v_test * dx\n",
    "\n",
    "# ---- Interfacial correction term Γ lagged in c (linear) ----\n",
    "# Γ(c^n) = -D_harm * c^n * (1-k) / (αL k + (1-αL)) * ∇αL\n",
    "# and ∇αL = 0.5 ∇φ  ; keep grad(...) inline:\n",
    "denom_cf = (alpha_L*k_CO2 + (1.0 - alpha_L))\n",
    "Gamma_dot_gradv = InnerProduct(\n",
    "    - D_harm * (c * (1.0 - k_CO2)) / denom_cf * (0.5*grad(phi_gfu)),\n",
    "    grad(v_test)\n",
    ")\n",
    "L += Gamma_dot_gradv * dx\n",
    "\n",
    "# RHS of reaction: r c_MEA αL c_eq\n",
    "L += (r_T * c_MEA * alpha_L * c_eq) * v_test * dx\n"
   ]
  },
  {
   "cell_type": "code",
   "execution_count": 5,
   "id": "18b1e3d3-6caa-4998-9f02-f55bcd9f2a56",
   "metadata": {
    "scrolled": true
   },
   "outputs": [
    {
     "name": "stdout",
     "output_type": "stream",
     "text": [
      "Step 0\n"
     ]
    },
    {
     "data": {
      "application/vnd.jupyter.widget-view+json": {
       "model_id": "9d5c4fa1fb8145a1b628a71e02059d6d",
       "version_major": 2,
       "version_minor": 0
      },
      "text/plain": [
       "WebGuiWidget(layout=Layout(height='50vh', width='100%'), value={'gui_settings': {}, 'ngsolve_version': '6.2.24…"
      ]
     },
     "metadata": {},
     "output_type": "display_data"
    },
    {
     "data": {
      "application/vnd.jupyter.widget-view+json": {
       "model_id": "2e4d5f7fae9249288075e947052cf347",
       "version_major": 2,
       "version_minor": 0
      },
      "text/plain": [
       "WebGuiWidget(layout=Layout(height='50vh', width='100%'), value={'gui_settings': {}, 'ngsolve_version': '6.2.24…"
      ]
     },
     "metadata": {},
     "output_type": "display_data"
    },
    {
     "name": "stdout",
     "output_type": "stream",
     "text": [
      "Step 10\n"
     ]
    },
    {
     "data": {
      "application/vnd.jupyter.widget-view+json": {
       "model_id": "886876aa36de4d378c98ebe6b10ffd1e",
       "version_major": 2,
       "version_minor": 0
      },
      "text/plain": [
       "WebGuiWidget(layout=Layout(height='50vh', width='100%'), value={'gui_settings': {}, 'ngsolve_version': '6.2.24…"
      ]
     },
     "metadata": {},
     "output_type": "display_data"
    },
    {
     "data": {
      "application/vnd.jupyter.widget-view+json": {
       "model_id": "e9ec9c17ad284fbbad5d2b70b84bd3c1",
       "version_major": 2,
       "version_minor": 0
      },
      "text/plain": [
       "WebGuiWidget(layout=Layout(height='50vh', width='100%'), value={'gui_settings': {}, 'ngsolve_version': '6.2.24…"
      ]
     },
     "metadata": {},
     "output_type": "display_data"
    },
    {
     "name": "stdout",
     "output_type": "stream",
     "text": [
      "Step 20\n"
     ]
    },
    {
     "data": {
      "application/vnd.jupyter.widget-view+json": {
       "model_id": "cbb58492e2384574bda78bfee0abe59a",
       "version_major": 2,
       "version_minor": 0
      },
      "text/plain": [
       "WebGuiWidget(layout=Layout(height='50vh', width='100%'), value={'gui_settings': {}, 'ngsolve_version': '6.2.24…"
      ]
     },
     "metadata": {},
     "output_type": "display_data"
    },
    {
     "data": {
      "application/vnd.jupyter.widget-view+json": {
       "model_id": "816fb9c7c2744539ad4dade0ca8ed71e",
       "version_major": 2,
       "version_minor": 0
      },
      "text/plain": [
       "WebGuiWidget(layout=Layout(height='50vh', width='100%'), value={'gui_settings': {}, 'ngsolve_version': '6.2.24…"
      ]
     },
     "metadata": {},
     "output_type": "display_data"
    },
    {
     "name": "stdout",
     "output_type": "stream",
     "text": [
      "Step 30\n"
     ]
    },
    {
     "data": {
      "application/vnd.jupyter.widget-view+json": {
       "model_id": "41b5d41ecba54300a50563a971c47936",
       "version_major": 2,
       "version_minor": 0
      },
      "text/plain": [
       "WebGuiWidget(layout=Layout(height='50vh', width='100%'), value={'gui_settings': {}, 'ngsolve_version': '6.2.24…"
      ]
     },
     "metadata": {},
     "output_type": "display_data"
    },
    {
     "data": {
      "application/vnd.jupyter.widget-view+json": {
       "model_id": "50ca076b306942279e65c899ede5e1d1",
       "version_major": 2,
       "version_minor": 0
      },
      "text/plain": [
       "WebGuiWidget(layout=Layout(height='50vh', width='100%'), value={'gui_settings': {}, 'ngsolve_version': '6.2.24…"
      ]
     },
     "metadata": {},
     "output_type": "display_data"
    },
    {
     "name": "stdout",
     "output_type": "stream",
     "text": [
      "Step 40\n"
     ]
    },
    {
     "data": {
      "application/vnd.jupyter.widget-view+json": {
       "model_id": "bccb04d71a574ea89330e807d2733f9b",
       "version_major": 2,
       "version_minor": 0
      },
      "text/plain": [
       "WebGuiWidget(layout=Layout(height='50vh', width='100%'), value={'gui_settings': {}, 'ngsolve_version': '6.2.24…"
      ]
     },
     "metadata": {},
     "output_type": "display_data"
    },
    {
     "data": {
      "application/vnd.jupyter.widget-view+json": {
       "model_id": "affd154a90fd41c7bcb8e0bf751f5581",
       "version_major": 2,
       "version_minor": 0
      },
      "text/plain": [
       "WebGuiWidget(layout=Layout(height='50vh', width='100%'), value={'gui_settings': {}, 'ngsolve_version': '6.2.24…"
      ]
     },
     "metadata": {},
     "output_type": "display_data"
    }
   ],
   "source": [
    "# --- Inverse options (adjust to your solver setup) ---\n",
    "\n",
    "# optional: storage for results\n",
    "results = []\n",
    "# Initial guess with inlet concentration\n",
    "c.Set(g_in, definedon=mesh.Boundaries(\"Gas_Inlet\"))\n",
    "\n",
    "for step in range(n_steps):\n",
    "    set_state(step)\n",
    "\n",
    "    a.Assemble()\n",
    "    L.Assemble()\n",
    "\n",
    "    res = L.vec.CreateVector()\n",
    "    res.data = L.vec - a.mat * c.vec     # residual\n",
    "\n",
    "    c.vec.data += a.mat.Inverse(V1.FreeDofs()) * res\n",
    "\n",
    "    results.append(c.vec.FV().NumPy().copy())\n",
    "\n",
    "    if step % 10 == 0:\n",
    "        print(f\"Step {step}\")\n",
    "        Draw(u_gfu,mesh)\n",
    "        Draw(c, mesh)\n"
   ]
  },
  {
   "cell_type": "code",
   "execution_count": 6,
   "id": "0c2920c4-6b93-47f7-924b-0ec14097d864",
   "metadata": {},
   "outputs": [
    {
     "name": "stdout",
     "output_type": "stream",
     "text": [
      "U_snap shape: (50, 174723)\n",
      "Phi_snap shape: (50, 14789)\n",
      "n_vel_dofs: 116482 n_p_dofs: 14789 {131271}\n"
     ]
    }
   ],
   "source": [
    "print(\"U_snap shape:\", U_snap.shape)\n",
    "print(\"Phi_snap shape:\", Phi_snap.shape)\n",
    "print(\"n_vel_dofs:\", n_vel_dofs, \"n_p_dofs:\", n_p_dofs, {n_vel_dofs+n_p_dofs})\n"
   ]
  },
  {
   "cell_type": "code",
   "execution_count": 7,
   "id": "d6b88dd0-0bfc-44b2-8dde-8953b5b60061",
   "metadata": {},
   "outputs": [
    {
     "name": "stdout",
     "output_type": "stream",
     "text": [
      "U_snap shape: (50, 174723)\n",
      "step 0: max|u| = 41.42623402439366\n",
      "step 1: max|u| = 41.154696246880306\n",
      "step 2: max|u| = 47.14136728005469\n",
      "step 10: max|u| = 81.99926435793235\n"
     ]
    },
    {
     "ename": "IndexError",
     "evalue": "index 149 is out of bounds for axis 0 with size 50",
     "output_type": "error",
     "traceback": [
      "\u001b[31m---------------------------------------------------------------------------\u001b[39m",
      "\u001b[31mIndexError\u001b[39m                                Traceback (most recent call last)",
      "\u001b[36mCell\u001b[39m\u001b[36m \u001b[39m\u001b[32mIn[7]\u001b[39m\u001b[32m, line 3\u001b[39m\n\u001b[32m      1\u001b[39m \u001b[38;5;28mprint\u001b[39m(\u001b[33m\"\u001b[39m\u001b[33mU_snap shape:\u001b[39m\u001b[33m\"\u001b[39m, U_snap.shape)\n\u001b[32m      2\u001b[39m \u001b[38;5;28;01mfor\u001b[39;00m s \u001b[38;5;129;01min\u001b[39;00m [\u001b[32m0\u001b[39m, \u001b[32m1\u001b[39m, \u001b[32m2\u001b[39m, \u001b[32m10\u001b[39m, \u001b[32m149\u001b[39m]:\n\u001b[32m----> \u001b[39m\u001b[32m3\u001b[39m     \u001b[38;5;28mprint\u001b[39m(\u001b[33mf\u001b[39m\u001b[33m\"\u001b[39m\u001b[33mstep \u001b[39m\u001b[38;5;132;01m{\u001b[39;00ms\u001b[38;5;132;01m}\u001b[39;00m\u001b[33m: max|u| = \u001b[39m\u001b[38;5;132;01m{\u001b[39;00mnp.max(np.abs(\u001b[43mU_snap\u001b[49m\u001b[43m[\u001b[49m\u001b[43ms\u001b[49m\u001b[43m,\u001b[49m\u001b[43m:\u001b[49m\u001b[43m]\u001b[49m))\u001b[38;5;132;01m}\u001b[39;00m\u001b[33m\"\u001b[39m)\n",
      "\u001b[31mIndexError\u001b[39m: index 149 is out of bounds for axis 0 with size 50"
     ]
    }
   ],
   "source": [
    "print(\"U_snap shape:\", U_snap.shape)\n",
    "for s in [0, 1, 2, 10, 149]:\n",
    "    print(f\"step {s}: max|u| = {np.max(np.abs(U_snap[s,:]))}\")\n"
   ]
  },
  {
   "cell_type": "code",
   "execution_count": null,
   "id": "52760818-c627-4163-a5d1-3949f4e52e77",
   "metadata": {},
   "outputs": [],
   "source": []
  }
 ],
 "metadata": {
  "kernelspec": {
   "display_name": "Python (NGSolve)",
   "language": "python",
   "name": "ngsolve_venv"
  },
  "language_info": {
   "codemirror_mode": {
    "name": "ipython",
    "version": 3
   },
   "file_extension": ".py",
   "mimetype": "text/x-python",
   "name": "python",
   "nbconvert_exporter": "python",
   "pygments_lexer": "ipython3",
   "version": "3.11.2"
  }
 },
 "nbformat": 4,
 "nbformat_minor": 5
}
