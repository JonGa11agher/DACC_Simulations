{
 "cells": [
  {
   "cell_type": "code",
   "execution_count": 1,
   "id": "400b2701-5ccb-4ad0-a248-fa9132272ec9",
   "metadata": {},
   "outputs": [
    {
     "name": "stdout",
     "output_type": "stream",
     "text": [
      "importing ngsxfem-2.1.2405\n"
     ]
    }
   ],
   "source": [
    "from ngsolve import *\n",
    "from netgen.occ import *\n",
    "from netgen.geom2d import SplineGeometry\n",
    "from ngsolve.internal import *\n",
    "from xfem import *\n",
    "import numpy as np\n",
    "import ipywidgets\n",
    "from ngsolve.solvers import *\n",
    "import gc\n",
    "def MakeGeometry():\n",
    "    geo = SplineGeometry()\n",
    "\n",
    "    # Define Points:|\n",
    "    p0 = geo.AppendPoint(0.0,     0.0)\n",
    "    p0_inset = geo.AppendPoint(0.00005,0.0)\n",
    "    p1 = geo.AppendPoint(0.001,   0.0)\n",
    "    p1b = geo.AppendPoint(0.002,  0.0)\n",
    "    p2 = geo.AppendPoint(0.007, 0.0)\n",
    "    p3_inset = geo.AppendPoint(0.00995,0.0)\n",
    "    p3 = geo.AppendPoint(0.01, 0.0)\n",
    "    \n",
    "    p4 = geo.AppendPoint(0.01, 0.10)\n",
    "    p5 = geo.AppendPoint(0.008, 0.10)\n",
    "    p1b_top = geo.AppendPoint(0.002,  0.10)\n",
    "    \n",
    "    p6 = geo.AppendPoint(0.001,   0.10)\n",
    "    p7 = geo.AppendPoint(0.00,   0.10)\n",
    "    p7_inset = geo.AppendPoint(0.00005,0.10)\n",
    "\n",
    "    # Bottom edges\n",
    " \n",
    "    geo.Append([\"line\", p0, p1],     leftdomain=1, rightdomain=0, bc=\"Liq_Outlet_a\")\n",
    "    geo.Append([\"line\", p1, p1b],    leftdomain=2, rightdomain=0, bc=\"Liq_Outlet_b\")  # new domain\n",
    "    geo.Append([\"line\", p1b, p2],    leftdomain=3, rightdomain=0, bc=\"bottom\")\n",
    "    geo.Append([\"line\", p2, p3_inset],     leftdomain=4, rightdomain=0, bc=\"Gas_Inlet\")\n",
    "    geo.Append([\"line\",p3_inset,p3], leftdomain=4 ,rightdomain=0, bc = \"Gas_Buffer\")\n",
    "    \n",
    "    # Right edge\n",
    "    geo.Append([\"line\", p3, p4],     leftdomain=4, rightdomain=0, bc=\"right\")\n",
    "\n",
    "    # Top edges\n",
    "    geo.Append([\"line\", p4, p5],     leftdomain=4, rightdomain=0, bc=\"Gas_Outlet\")\n",
    "    geo.Append([\"line\", p5, p1b_top],leftdomain=3, rightdomain=0, bc=\"top\")\n",
    "    geo.Append([\"line\", p1b_top, p6],leftdomain=2, rightdomain=0, bc=\"top\")     # new domain\n",
    "    geo.Append([\"line\", p6, p7_inset],     leftdomain=1, rightdomain=0, bc=\"Liq_Inlet\")\n",
    "    geo.Append([\"line\", p7_inset,p7],     leftdomain=1, rightdomain=0, bc=\"Liq_Buffer\")\n",
    "\n",
    "    # Left edge\n",
    "    geo.Append([\"line\", p7, p0],     leftdomain=1, rightdomain=0, bc=\"left\")\n",
    "\n",
    "    # Internal vertical separators\n",
    "    interface = geo.Append([\"line\", p1, p6],       leftdomain=1, rightdomain=2)  # \n",
    "    geo.Append([\"line\", p1b, p1b_top], leftdomain=2, rightdomain=3)  # \n",
    "    geo.Append([\"line\", p2, p5],       leftdomain=3, rightdomain=4)  #\n",
    "\n",
    "\n",
    "\n",
    "    # Set mesh size per domain\n",
    "\n",
    "    geo.SetDomainMaxH(1, 0.0001)\n",
    "    geo.SetDomainMaxH(2, 0.0001)  # new domain (optional: adjust mesh size)\n",
    "    geo.SetDomainMaxH(3, 0.0007)\n",
    "    geo.SetDomainMaxH(4, 0.0005)\n",
    "\n",
    "    return geo.GenerateMesh()\n",
    "\n",
    "\n",
    "mesh =  Mesh(MakeGeometry())"
   ]
  },
  {
   "cell_type": "markdown",
   "id": "02f066c5-daea-46e2-8a37-3f8abbfd81dd",
   "metadata": {},
   "source": [
    "**Imports and Function Spaces**"
   ]
  },
  {
   "cell_type": "code",
   "execution_count": 2,
   "id": "b84365a1-b3c7-4f09-b6fc-5f21cb79b691",
   "metadata": {},
   "outputs": [],
   "source": [
    "mesh = Mesh(\"mesh.vol\")\n"
   ]
  },
  {
   "cell_type": "code",
   "execution_count": 3,
   "id": "28c09c07-5ae0-4925-a5d3-f81d68436e4e",
   "metadata": {},
   "outputs": [
    {
     "ename": "FileNotFoundError",
     "evalue": "[Errno 2] No such file or directory: 'Data/U_snap_freq24.000Hz.npy'",
     "output_type": "error",
     "traceback": [
      "\u001b[31m---------------------------------------------------------------------------\u001b[39m",
      "\u001b[31mFileNotFoundError\u001b[39m                         Traceback (most recent call last)",
      "\u001b[36mCell\u001b[39m\u001b[36m \u001b[39m\u001b[32mIn[3]\u001b[39m\u001b[32m, line 34\u001b[39m\n\u001b[32m     30\u001b[39m c_i_old = GridFunction(C)   \u001b[38;5;66;03m# previous c^n\u001b[39;00m\n\u001b[32m     33\u001b[39m \u001b[38;5;66;03m# TEMP\u001b[39;00m\n\u001b[32m---> \u001b[39m\u001b[32m34\u001b[39m velocity_pressure = \u001b[43mnp\u001b[49m\u001b[43m.\u001b[49m\u001b[43mload\u001b[49m\u001b[43m(\u001b[49m\u001b[33;43m\"\u001b[39;49m\u001b[33;43mData/U_snap_freq24.000Hz.npy\u001b[39;49m\u001b[33;43m\"\u001b[39;49m\u001b[43m)\u001b[49m\n\u001b[32m     36\u001b[39m u_snapshots = velocity_pressure[:,:V.ndof]\n\u001b[32m     37\u001b[39m phi_snapshots = np.load(\u001b[33m\"\u001b[39m\u001b[33mData/Phi_snap_freq24.000Hz.npy\u001b[39m\u001b[33m\"\u001b[39m)\n",
      "\u001b[36mFile \u001b[39m\u001b[32m~/NGSolve/NGSolve_Venv/lib/python3.11/site-packages/numpy/lib/_npyio_impl.py:451\u001b[39m, in \u001b[36mload\u001b[39m\u001b[34m(file, mmap_mode, allow_pickle, fix_imports, encoding, max_header_size)\u001b[39m\n\u001b[32m    449\u001b[39m     own_fid = \u001b[38;5;28;01mFalse\u001b[39;00m\n\u001b[32m    450\u001b[39m \u001b[38;5;28;01melse\u001b[39;00m:\n\u001b[32m--> \u001b[39m\u001b[32m451\u001b[39m     fid = stack.enter_context(\u001b[38;5;28;43mopen\u001b[39;49m\u001b[43m(\u001b[49m\u001b[43mos\u001b[49m\u001b[43m.\u001b[49m\u001b[43mfspath\u001b[49m\u001b[43m(\u001b[49m\u001b[43mfile\u001b[49m\u001b[43m)\u001b[49m\u001b[43m,\u001b[49m\u001b[43m \u001b[49m\u001b[33;43m\"\u001b[39;49m\u001b[33;43mrb\u001b[39;49m\u001b[33;43m\"\u001b[39;49m\u001b[43m)\u001b[49m)\n\u001b[32m    452\u001b[39m     own_fid = \u001b[38;5;28;01mTrue\u001b[39;00m\n\u001b[32m    454\u001b[39m \u001b[38;5;66;03m# Code to distinguish from NumPy binary files and pickles.\u001b[39;00m\n",
      "\u001b[31mFileNotFoundError\u001b[39m: [Errno 2] No such file or directory: 'Data/U_snap_freq24.000Hz.npy'"
     ]
    }
   ],
   "source": [
    "# =============================================================================\n",
    "# FINITE ELEMENT SPACES\n",
    "# =============================================================================\n",
    "\n",
    "# Navier-Stokes spaces\n",
    "V = VectorH1(mesh, order=2, dirichlet=\"Liq_Inlet|Gas_Inlet|top|bottom|left|right|Liq_Buffer|Gas_Buffer\") #dirichlety = \"top|bottom\"\n",
    "Q = H1(mesh, order=1,dirichlet=\"\")  # pressure constraints\n",
    "X = V*Q  # Mixed velocity-pressure space\n",
    "\n",
    "# AllenCahn Space\n",
    "L = H1(mesh, order=1,dirichlet=\"left|Liq_Inlet|Gas_Inlet|Gas_Outlet|Gas_Buffer|top\") \n",
    "\n",
    "# GRID FUNCTIONS\n",
    "# =============================================================================\n",
    "\n",
    "# Navier-Stokes solutions\n",
    "u_p = GridFunction(X)      # Current [u, p] solution\n",
    "u_p_old = GridFunction(X)  # Previous time step [u, p]\n",
    "\n",
    "# Phase field solutions  \n",
    "phi = GridFunction(L)      # Current [phi, mu] solution\n",
    "phi_old = GridFunction(L)  # Previous time step [phi, mu]\n",
    "# Boundary condition helpers|\n",
    "u_D = GridFunction(V)  # Velocity BC helper\n",
    "p_D = GridFunction(Q)  # Pressure BC helper\n",
    "\n",
    "# Concentration space (continuous Galerkin)\n",
    "C = H1(mesh, order=1, dirichlet=\"\")  # set your true inflow boundaries\n",
    "c_i     = GridFunction(C)   # current c^{n+1}\n",
    "c_i_old = GridFunction(C)   # previous c^n\n",
    "\n",
    "\n",
    "# TEMP\n",
    "velocity_pressure = np.load(\"Data/U_snap_freq24.000Hz.npy\")\n",
    "\n",
    "u_snapshots = velocity_pressure[:,:V.ndof]\n",
    "phi_snapshots = np.load(\"Data/Phi_snap_freq24.000Hz.npy\")\n",
    "\n",
    "\n",
    "\n"
   ]
  },
  {
   "cell_type": "code",
   "execution_count": 4,
   "id": "9f0f4506-80ed-4743-858f-62be93738ebb",
   "metadata": {},
   "outputs": [],
   "source": [
    "\n",
    "phi.vec.FV().NumPy()[:] = (phi_snapshots[0,:])\n",
    "phi_old.Set(phi)\n",
    "\n",
    "# Initialize Navier-Stokes (can be zero or small perturbation)\n",
    "u_p.components[0].vec.FV().NumPy()[:] = u_snapshots[0]\n",
    "u_p.components[1].Set(0.0)             # Initial pressure\n",
    "u_p_old.vec.data = u_p.vec"
   ]
  },
  {
   "cell_type": "code",
   "execution_count": 5,
   "id": "db42c332-93fa-4345-906c-2df1edd9159c",
   "metadata": {},
   "outputs": [
    {
     "data": {
      "application/vnd.jupyter.widget-view+json": {
       "model_id": "5bfd6137045c4fda9c53b9ad685d64bf",
       "version_major": 2,
       "version_minor": 0
      },
      "text/plain": [
       "WebGuiWidget(layout=Layout(height='50vh', width='100%'), value={'gui_settings': {}, 'ngsolve_version': '6.2.24…"
      ]
     },
     "metadata": {},
     "output_type": "display_data"
    },
    {
     "data": {
      "text/plain": [
       "BaseWebGuiScene"
      ]
     },
     "execution_count": 5,
     "metadata": {},
     "output_type": "execute_result"
    }
   ],
   "source": [
    "Draw(u_p.components[0],mesh)"
   ]
  },
  {
   "cell_type": "markdown",
   "id": "4cbcee7a-74ac-4897-ac5e-dd9447f8f42c",
   "metadata": {},
   "source": [
    "**Physical System Parameters**"
   ]
  },
  {
   "cell_type": "code",
   "execution_count": 6,
   "id": "3a7f4cf2-de8c-4586-936a-7f5ebe54613a",
   "metadata": {},
   "outputs": [
    {
     "name": "stdout",
     "output_type": "stream",
     "text": [
      "C_MEA = 4297.6 mol/m^3\n",
      "phi_MEA1 = 0.0895\n"
     ]
    }
   ],
   "source": [
    "# ---------------- 3) Physical parameters ----------------\n",
    "# Molecular diffusivities\n",
    "Dil = Parameter(2.0e-9)                        # m^2/s (CO2 in water) (SLOWER)\n",
    "Dig = Parameter(1.5e-5)                        # m^2/s (CO2 in air)\n",
    "\n",
    "\n",
    "\n",
    "# Reaction parameters (CO2–MEA)\n",
    "T      = Parameter(298.15)                      # Temp in K\n",
    "phiMEA = Parameter(0.30)                        # MEA mole fraction\n",
    "thetaL = Parameter(0.10)                        # CO2 loading\n",
    "KCO2   = Parameter(1.0e-5)                      # equilibrium constant (THIS NEEDS TO BE CHANGED)\n",
    "Rgas   = 8.314462618                            # J/(mol K)\n",
    "cMEA   = Parameter(1000.0)                      # mol/m^3 (MEA concentration)\n",
    "k_i = Parameter(1.20) #Dimensionless Henry, For now. 1.20. Check later\n",
    "\n",
    "\n",
    "CO2_Loading = 0.3 #theta\n",
    "\n",
    "# ---------------- Quick conversions ----------------\n",
    "M_MEA   = 61.08     # g/mol\n",
    "M_H2O   = 18.015    # g/mol\n",
    "\n",
    "rho_sol = 1050.0       # kg/m^3  (approx for 25 wt% MEA)\n",
    "M_MEA_Kg   = 0.06108      # kg/mol\n",
    "w_MEA   = 0.25         # MEA mass fraction\n",
    "\n",
    "C_MEA   = w_MEA * rho_sol / M_MEA_Kg    # mol/m^3\n",
    "\n",
    "print(f\"C_MEA = {C_MEA:.1f} mol/m^3\")\n",
    "# corresponding mole fractions (phi)\n",
    "phiMEA = (w_MEA/M_MEA) / ((w_MEA/M_MEA) + ((1 - w_MEA)/M_H2O))\n",
    "\n",
    "print(f\"phi_MEA1 = {phiMEA:.4f}\")\n"
   ]
  },
  {
   "cell_type": "markdown",
   "id": "cb769fad-34fe-45af-8e22-e77307bc3844",
   "metadata": {},
   "source": [
    "**Initialize Concentration**"
   ]
  },
  {
   "cell_type": "code",
   "execution_count": 7,
   "id": "8f293b82-1fbd-4857-9130-599fe1ee2abc",
   "metadata": {},
   "outputs": [],
   "source": [
    "\n",
    "c_init = 10.0\n",
    "x0     = 0.0015                   # threshold location\n",
    "h      = specialcf.mesh_size       # local element size (CF)\n",
    "w      = 3.0*h + 1e-15             # ~3*h smoothing band (per element)\n",
    "\n",
    "alpha  = 1.0 / (1.0 + exp(-2.0*(x - x0)/w))\n",
    "initial_concentration = c_init * alpha\n",
    "\n",
    "c_i.Set(initial_concentration)\n",
    "c_i_old.Set(initial_concentration)"
   ]
  },
  {
   "cell_type": "code",
   "execution_count": 8,
   "id": "ee703831-1261-4fb2-9b2d-a60b52f51c0b",
   "metadata": {},
   "outputs": [
    {
     "data": {
      "application/vnd.jupyter.widget-view+json": {
       "model_id": "75343454718c4304b4b0c0203b4b384c",
       "version_major": 2,
       "version_minor": 0
      },
      "text/plain": [
       "WebGuiWidget(layout=Layout(height='50vh', width='100%'), value={'gui_settings': {}, 'ngsolve_version': '6.2.24…"
      ]
     },
     "metadata": {},
     "output_type": "display_data"
    },
    {
     "data": {
      "text/plain": [
       "BaseWebGuiScene"
      ]
     },
     "execution_count": 8,
     "metadata": {},
     "output_type": "execute_result"
    }
   ],
   "source": [
    "Draw(c_i,mesh)"
   ]
  },
  {
   "cell_type": "markdown",
   "id": "f575c455-a451-4a2a-a2c1-dc6a5fe8656e",
   "metadata": {},
   "source": [
    "**Model Set Up**"
   ]
  },
  {
   "cell_type": "code",
   "execution_count": 9,
   "id": "f0be156f-5dee-4290-8b0d-38195a54f354",
   "metadata": {},
   "outputs": [],
   "source": [
    "alphaL_cf = 0.5 * (1 + phi)\n",
    "\n",
    "\n"
   ]
  },
  {
   "cell_type": "code",
   "execution_count": null,
   "id": "9089531a-d0b7-4bd1-bcb1-6e15eb203d49",
   "metadata": {},
   "outputs": [],
   "source": []
  },
  {
   "cell_type": "code",
   "execution_count": 10,
   "id": "c21bc2fa-95ba-4014-abb1-aa918e643ff7",
   "metadata": {},
   "outputs": [],
   "source": [
    "\n",
    "\n",
    "alphaL = GridFunction(L) \n",
    "alphaL.Set(alphaL_cf) # projection/interpolation"
   ]
  },
  {
   "cell_type": "code",
   "execution_count": null,
   "id": "41dd9bcd-8c7e-43d7-9136-41f975c1b0ae",
   "metadata": {},
   "outputs": [],
   "source": []
  },
  {
   "cell_type": "code",
   "execution_count": 11,
   "id": "1152ea8c-2846-4cc5-afdb-800d53212357",
   "metadata": {},
   "outputs": [
    {
     "data": {
      "application/vnd.jupyter.widget-view+json": {
       "model_id": "dafb7b02df154bc0b73e70409c69d4b4",
       "version_major": 2,
       "version_minor": 0
      },
      "text/plain": [
       "WebGuiWidget(layout=Layout(height='50vh', width='100%'), value={'gui_settings': {}, 'ngsolve_version': '6.2.24…"
      ]
     },
     "metadata": {},
     "output_type": "display_data"
    },
    {
     "data": {
      "text/plain": [
       "BaseWebGuiScene"
      ]
     },
     "execution_count": 11,
     "metadata": {},
     "output_type": "execute_result"
    }
   ],
   "source": [
    "Draw(Grad(alphaL),mesh)"
   ]
  },
  {
   "cell_type": "code",
   "execution_count": 12,
   "id": "88778c29-5ebd-40c0-a8af-cfdaae1487d6",
   "metadata": {},
   "outputs": [],
   "source": [
    "tiny   = 1e-18\n",
    "\n",
    "#Blended Diffusion Coeff\n",
    "Dblend = (Dil * Dig) / (alphaL * Dig + (1 - alphaL) * Dil+tiny)\n",
    "\n",
    "#Jump Correction\n",
    "Gamma_i = -(1) * Dblend * (c_i * (1 - k_i) / (alphaL + k_i * (1 - alphaL))) * Grad(alphaL)\n",
    "\n",
    "rxn_rate = exp(20.54 - ( 5612.91 / T ))\n",
    "\n",
    "theta_term = (thetaL**2) / ((1 - 2 * thetaL)**2 + tiny)\n",
    "\n",
    "#c_aq = exp(30.96 - 10584 / T - 7.187 * phiMEA * CO2_Loading) * theta_term / (KCO2 * Rgas * T) <---\n",
    "c_aq = 10.5 #"
   ]
  },
  {
   "cell_type": "code",
   "execution_count": null,
   "id": "4abb84e1-c423-4850-8476-05df9d67728c",
   "metadata": {},
   "outputs": [],
   "source": []
  },
  {
   "cell_type": "code",
   "execution_count": 13,
   "id": "27ab3c9d-706c-4674-b101-79c8a4485703",
   "metadata": {},
   "outputs": [
    {
     "data": {
      "application/vnd.jupyter.widget-view+json": {
       "model_id": "5a77d5f3d9ad48b28413089842f9046c",
       "version_major": 2,
       "version_minor": 0
      },
      "text/plain": [
       "WebGuiWidget(layout=Layout(height='50vh', width='100%'), value={'gui_settings': {}, 'ngsolve_version': '6.2.24…"
      ]
     },
     "metadata": {},
     "output_type": "display_data"
    },
    {
     "data": {
      "application/vnd.jupyter.widget-view+json": {
       "model_id": "579d649527d445b997d83892fe4e383d",
       "version_major": 2,
       "version_minor": 0
      },
      "text/plain": [
       "WebGuiWidget(layout=Layout(height='50vh', width='100%'), value={'gui_settings': {}, 'ngsolve_version': '6.2.24…"
      ]
     },
     "metadata": {},
     "output_type": "display_data"
    },
    {
     "data": {
      "application/vnd.jupyter.widget-view+json": {
       "model_id": "3d843bf4152a43a3a45ff795cd3e03d8",
       "version_major": 2,
       "version_minor": 0
      },
      "text/plain": [
       "WebGuiWidget(layout=Layout(height='50vh', width='100%'), value={'gui_settings': {}, 'ngsolve_version': '6.2.24…"
      ]
     },
     "metadata": {},
     "output_type": "display_data"
    },
    {
     "data": {
      "application/vnd.jupyter.widget-view+json": {
       "model_id": "d5e2a2d056b74504aab66afd9547f671",
       "version_major": 2,
       "version_minor": 0
      },
      "text/plain": [
       "WebGuiWidget(layout=Layout(height='50vh', width='100%'), value={'gui_settings': {}, 'ngsolve_version': '6.2.24…"
      ]
     },
     "metadata": {},
     "output_type": "display_data"
    },
    {
     "data": {
      "application/vnd.jupyter.widget-view+json": {
       "model_id": "48c356b9e73845568a223f7c4cff965d",
       "version_major": 2,
       "version_minor": 0
      },
      "text/plain": [
       "WebGuiWidget(layout=Layout(height='50vh', width='100%'), value={'gui_settings': {}, 'ngsolve_version': '6.2.24…"
      ]
     },
     "metadata": {},
     "output_type": "display_data"
    },
    {
     "data": {
      "application/vnd.jupyter.widget-view+json": {
       "model_id": "6cca00c3661b401a9a29c2ee0be5f132",
       "version_major": 2,
       "version_minor": 0
      },
      "text/plain": [
       "WebGuiWidget(layout=Layout(height='50vh', width='100%'), value={'gui_settings': {}, 'ngsolve_version': '6.2.24…"
      ]
     },
     "metadata": {},
     "output_type": "display_data"
    },
    {
     "data": {
      "application/vnd.jupyter.widget-view+json": {
       "model_id": "6232c38ebd5f41d08af19f9c106916ac",
       "version_major": 2,
       "version_minor": 0
      },
      "text/plain": [
       "WebGuiWidget(layout=Layout(height='50vh', width='100%'), value={'gui_settings': {}, 'ngsolve_version': '6.2.24…"
      ]
     },
     "metadata": {},
     "output_type": "display_data"
    },
    {
     "data": {
      "application/vnd.jupyter.widget-view+json": {
       "model_id": "91cf9d3945d5409aa9fc3f9c28ad3cec",
       "version_major": 2,
       "version_minor": 0
      },
      "text/plain": [
       "WebGuiWidget(layout=Layout(height='50vh', width='100%'), value={'gui_settings': {}, 'ngsolve_version': '6.2.24…"
      ]
     },
     "metadata": {},
     "output_type": "display_data"
    },
    {
     "data": {
      "application/vnd.jupyter.widget-view+json": {
       "model_id": "86f7a61d8e5141f7a93d8bbe94520d30",
       "version_major": 2,
       "version_minor": 0
      },
      "text/plain": [
       "WebGuiWidget(layout=Layout(height='50vh', width='100%'), value={'gui_settings': {}, 'ngsolve_version': '6.2.24…"
      ]
     },
     "metadata": {},
     "output_type": "display_data"
    },
    {
     "data": {
      "application/vnd.jupyter.widget-view+json": {
       "model_id": "71c93bfaff034ee884af2c2a2bb3565d",
       "version_major": 2,
       "version_minor": 0
      },
      "text/plain": [
       "WebGuiWidget(layout=Layout(height='50vh', width='100%'), value={'gui_settings': {}, 'ngsolve_version': '6.2.24…"
      ]
     },
     "metadata": {},
     "output_type": "display_data"
    },
    {
     "data": {
      "application/vnd.jupyter.widget-view+json": {
       "model_id": "8781cd49cb1b4f9f83e4a468bf416b89",
       "version_major": 2,
       "version_minor": 0
      },
      "text/plain": [
       "WebGuiWidget(layout=Layout(height='50vh', width='100%'), value={'gui_settings': {}, 'ngsolve_version': '6.2.24…"
      ]
     },
     "metadata": {},
     "output_type": "display_data"
    },
    {
     "data": {
      "application/vnd.jupyter.widget-view+json": {
       "model_id": "07f0aadeac094d879a5b772392fb5315",
       "version_major": 2,
       "version_minor": 0
      },
      "text/plain": [
       "WebGuiWidget(layout=Layout(height='50vh', width='100%'), value={'gui_settings': {}, 'ngsolve_version': '6.2.24…"
      ]
     },
     "metadata": {},
     "output_type": "display_data"
    },
    {
     "data": {
      "application/vnd.jupyter.widget-view+json": {
       "model_id": "66fbb7410f2948758814aca9f3c337bd",
       "version_major": 2,
       "version_minor": 0
      },
      "text/plain": [
       "WebGuiWidget(layout=Layout(height='50vh', width='100%'), value={'gui_settings': {}, 'ngsolve_version': '6.2.24…"
      ]
     },
     "metadata": {},
     "output_type": "display_data"
    },
    {
     "data": {
      "application/vnd.jupyter.widget-view+json": {
       "model_id": "79194cc3452b4dd59743a2dbbd0486eb",
       "version_major": 2,
       "version_minor": 0
      },
      "text/plain": [
       "WebGuiWidget(layout=Layout(height='50vh', width='100%'), value={'gui_settings': {}, 'ngsolve_version': '6.2.24…"
      ]
     },
     "metadata": {},
     "output_type": "display_data"
    },
    {
     "data": {
      "application/vnd.jupyter.widget-view+json": {
       "model_id": "f763bfc7de3f4e95aaa032aa84a6cf5f",
       "version_major": 2,
       "version_minor": 0
      },
      "text/plain": [
       "WebGuiWidget(layout=Layout(height='50vh', width='100%'), value={'gui_settings': {}, 'ngsolve_version': '6.2.24…"
      ]
     },
     "metadata": {},
     "output_type": "display_data"
    },
    {
     "data": {
      "application/vnd.jupyter.widget-view+json": {
       "model_id": "a874e0ab79484a8fa9407040fed38861",
       "version_major": 2,
       "version_minor": 0
      },
      "text/plain": [
       "WebGuiWidget(layout=Layout(height='50vh', width='100%'), value={'gui_settings': {}, 'ngsolve_version': '6.2.24…"
      ]
     },
     "metadata": {},
     "output_type": "display_data"
    },
    {
     "data": {
      "application/vnd.jupyter.widget-view+json": {
       "model_id": "2501610ae28e456a92cfffeebb9f18d9",
       "version_major": 2,
       "version_minor": 0
      },
      "text/plain": [
       "WebGuiWidget(layout=Layout(height='50vh', width='100%'), value={'gui_settings': {}, 'ngsolve_version': '6.2.24…"
      ]
     },
     "metadata": {},
     "output_type": "display_data"
    },
    {
     "data": {
      "application/vnd.jupyter.widget-view+json": {
       "model_id": "d091486d4f0248ae9642447805319d0a",
       "version_major": 2,
       "version_minor": 0
      },
      "text/plain": [
       "WebGuiWidget(layout=Layout(height='50vh', width='100%'), value={'gui_settings': {}, 'ngsolve_version': '6.2.24…"
      ]
     },
     "metadata": {},
     "output_type": "display_data"
    },
    {
     "data": {
      "application/vnd.jupyter.widget-view+json": {
       "model_id": "261e4656842b411cb93a0eb821e1d479",
       "version_major": 2,
       "version_minor": 0
      },
      "text/plain": [
       "WebGuiWidget(layout=Layout(height='50vh', width='100%'), value={'gui_settings': {}, 'ngsolve_version': '6.2.24…"
      ]
     },
     "metadata": {},
     "output_type": "display_data"
    },
    {
     "data": {
      "application/vnd.jupyter.widget-view+json": {
       "model_id": "67c38b5acaff4e879cdd1719fc6efdac",
       "version_major": 2,
       "version_minor": 0
      },
      "text/plain": [
       "WebGuiWidget(layout=Layout(height='50vh', width='100%'), value={'gui_settings': {}, 'ngsolve_version': '6.2.24…"
      ]
     },
     "metadata": {},
     "output_type": "display_data"
    }
   ],
   "source": [
    "# ---------------- TIME LOOP (consistent reassembly, CoefficientFunction dt) ----------------\n",
    "t, Tfinal = 0.0, 0.03\n",
    "t_idx = 0\n",
    "beta = 5.0    # Nitsche penalty factor (tune 2–10)\n",
    "\n",
    "# ----- time params -----\n",
    "dt_val = 1e-4\n",
    "dt = Parameter(dt_val)\n",
    "\n",
    "# ----- spaces / unknowns -----\n",
    "C = c_i.space\n",
    "c, w = C.TnT()           # trial/test\n",
    "\n",
    "# (optional) velocity:\n",
    "vel = u_p.components[0]  # if you have NS solution\n",
    "\n",
    "while t < Tfinal - 1e-12:\n",
    "    # (optional) update phi, u from precomputed snapshots\n",
    "    phi.vec.FV().NumPy()[:] = phi_snapshots[t_idx,:]\n",
    "    vel.vec.FV().NumPy()[:]  = u_snapshots[t_idx,:]\n",
    "    \n",
    "    # --- recompute interface quantities ---\n",
    "    alphaL_cf = 0.5 * (1 + phi)\n",
    "\n",
    "    alphaL = GridFunction(L, name=\"alphaL\")\n",
    "    alphaL.Set(alphaL_cf)\n",
    "\n",
    "    # --- drift / jump correction ---\n",
    "    Gamma_i = -1 * Dblend * (c_i * (1 - k_i) / (alphaL + k_i * (1 - alphaL))) * Grad(alphaL)\n",
    "\n",
    "    # --- prepare forms (fresh each iteration) ---\n",
    "    a = BilinearForm(C, symmetric=False)\n",
    "    f = LinearForm(C)\n",
    "\n",
    "    # mass, advection, diffusion, drift\n",
    "    a += (1.0/dt) * c * w * dx\n",
    "    a += -(vel * grad(w)) * c * dx\n",
    "    a += Dblend * grad(c) * grad(w) * dx\n",
    "    a += c * (Gamma_i * grad(w)) * dx\n",
    "\n",
    "    # SUPG stabilization\n",
    "    h = specialcf.mesh_size\n",
    "    vnorm = Norm(vel)\n",
    "    tau = h / (2*(vnorm + 1e-10))\n",
    "    a += tau * (vel * grad(w)) * (vel * grad(c)) * dx\n",
    "\n",
    "    # --- time term RHS ---\n",
    "    f += (1.0/dt) * c_i_old * w * dx\n",
    "\n",
    "    # --- boundary integrals ---\n",
    "    n = specialcf.normal(2)\n",
    "    un = (vel * n)\n",
    "\n",
    "    # Liquid inlet (weakly impose c=0)\n",
    "    c_liq_in = 0.0\n",
    "    a += IfPos(-un, -un * w * c, 0) * ds(\"Liq_Inlet\")\n",
    "    f += IfPos(-un, -un * w * c_liq_in, 0) * ds(\"Liq_Inlet\")\n",
    "\n",
    "    # Gas inlet (weakly impose c=c_in)\n",
    "    c_in = 10.0\n",
    "    a += IfPos(-un, -un * w * c, 0) * ds(\"Gas_Inlet\")\n",
    "    f += IfPos(-un, -un * w * c_in, 0) * ds(\"Gas_Inlet\")\n",
    "\n",
    "    # --- Nitsche penalty to tighten inflow condition ---\n",
    "    a += beta * vnorm/h * (c * w) * ds(\"Gas_Inlet\")\n",
    "    f += beta * vnorm/h * (c_in * w) * ds(\"Gas_Inlet\")\n",
    "\n",
    "    # --- outlets (natural outflow) ---\n",
    "    a += IfPos(un, un * w * c, 0) * ds(\"Liq_Outlet_a\")\n",
    "    a += IfPos(un, un * w * c, 0) * ds(\"Liq_Outlet_b\")\n",
    "    a += IfPos(un, un * w * c, 0) * ds(\"Gas_Outlet\")\n",
    "\n",
    "    # --- reaction term ---\n",
    "    W_CO2 = rxn_rate * (c_i - c_aq) * C_MEA * alphaL\n",
    "    a += -W_CO2 * w * dx\n",
    "\n",
    "    # assemble and solve\n",
    "    a.Assemble()\n",
    "    f.Assemble()\n",
    "    inv = a.mat.Inverse(C.FreeDofs())\n",
    "    c_i.vec.data = inv * f.vec\n",
    "\n",
    "    # --- clamp negative concentrations ---\n",
    "    cvals = c_i.vec.FV().NumPy()\n",
    "    cvals[cvals < 0] = 0.0\n",
    "    cvals[cvals > c_in] = c_in\n",
    "    # advance\n",
    "    c_i_old.vec.data = c_i.vec\n",
    "    t += dt_val\n",
    "    t_idx += 1\n",
    "\n",
    "    if t_idx % 30 == 0:\n",
    "        \n",
    "        Draw(c_i_old, mesh)\n",
    "        Draw(phi,mesh)"
   ]
  },
  {
   "cell_type": "code",
   "execution_count": 14,
   "id": "cd5f6e06-cb7c-4e29-9149-20b254af64c7",
   "metadata": {},
   "outputs": [
    {
     "data": {
      "application/vnd.jupyter.widget-view+json": {
       "model_id": "f0ce0626616e467f89a80ca60eb068b1",
       "version_major": 2,
       "version_minor": 0
      },
      "text/plain": [
       "WebGuiWidget(layout=Layout(height='50vh', width='100%'), value={'gui_settings': {}, 'ngsolve_version': '6.2.24…"
      ]
     },
     "metadata": {},
     "output_type": "display_data"
    },
    {
     "data": {
      "text/plain": [
       "BaseWebGuiScene"
      ]
     },
     "execution_count": 14,
     "metadata": {},
     "output_type": "execute_result"
    }
   ],
   "source": [
    "Draw(c_i_old,mesh)"
   ]
  },
  {
   "cell_type": "code",
   "execution_count": 15,
   "id": "63ba3a38-3c5e-402f-bde0-7042d4d6f9d1",
   "metadata": {},
   "outputs": [
    {
     "data": {
      "application/vnd.jupyter.widget-view+json": {
       "model_id": "70f3ba666e9c4b72bd53dd1d2e41388a",
       "version_major": 2,
       "version_minor": 0
      },
      "text/plain": [
       "WebGuiWidget(layout=Layout(height='50vh', width='100%'), value={'gui_settings': {}, 'ngsolve_version': '6.2.24…"
      ]
     },
     "metadata": {},
     "output_type": "display_data"
    },
    {
     "data": {
      "text/plain": [
       "BaseWebGuiScene"
      ]
     },
     "execution_count": 15,
     "metadata": {},
     "output_type": "execute_result"
    }
   ],
   "source": [
    "Draw(vel,mesh)"
   ]
  },
  {
   "cell_type": "code",
   "execution_count": null,
   "id": "2980f4f1-1c8f-4427-9bcd-a6bf8a965b87",
   "metadata": {},
   "outputs": [],
   "source": []
  }
 ],
 "metadata": {
  "kernelspec": {
   "display_name": "Python 3 (ipykernel)",
   "language": "python",
   "name": "python3"
  },
  "language_info": {
   "codemirror_mode": {
    "name": "ipython",
    "version": 3
   },
   "file_extension": ".py",
   "mimetype": "text/x-python",
   "name": "python",
   "nbconvert_exporter": "python",
   "pygments_lexer": "ipython3",
   "version": "3.11.2"
  }
 },
 "nbformat": 4,
 "nbformat_minor": 5
}
