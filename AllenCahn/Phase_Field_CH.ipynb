{
 "cells": [
  {
   "cell_type": "markdown",
   "metadata": {},
   "source": [
    "## Mesh"
   ]
  },
  {
   "cell_type": "code",
   "execution_count": 1,
   "metadata": {},
   "outputs": [
    {
     "name": "stdout",
     "output_type": "stream",
     "text": [
      "importing ngsxfem-2.1.2405\n"
     ]
    }
   ],
   "source": [
    "from ngsolve import *\n",
    "from netgen.occ import *\n",
    "from netgen.geom2d import SplineGeometry\n",
    "from ngsolve.internal import *\n",
    "from xfem import *\n",
    "import numpy as np\n",
    "import ipywidgets\n",
    "from ngsolve.solvers import *\n",
    "import gc\n",
    "def MakeGeometry():\n",
    "    geo = SplineGeometry()\n",
    "\n",
    "    # Define Points:|\n",
    "    p0 = geo.AppendPoint(0.0,     0.0)\n",
    "    p0_inset = geo.AppendPoint(0.00005,0.0)\n",
    "    p1 = geo.AppendPoint(0.001,   0.0)\n",
    "    p1b = geo.AppendPoint(0.002,  0.0)\n",
    "    p2 = geo.AppendPoint(0.007, 0.0)\n",
    "    p3_inset = geo.AppendPoint(0.00995,0.0)\n",
    "    p3 = geo.AppendPoint(0.01, 0.0)\n",
    "    \n",
    "    p4 = geo.AppendPoint(0.01, 0.10)\n",
    "    p5 = geo.AppendPoint(0.008, 0.10)\n",
    "    p1b_top = geo.AppendPoint(0.002,  0.10)\n",
    "    \n",
    "    p6 = geo.AppendPoint(0.001,   0.10)\n",
    "    p7 = geo.AppendPoint(0.00,   0.10)\n",
    "    p7_inset = geo.AppendPoint(0.00005,0.10)\n",
    "\n",
    "    # Bottom edges\n",
    " \n",
    "    geo.Append([\"line\", p0, p1],     leftdomain=1, rightdomain=0, bc=\"Liq_Outlet_a\")\n",
    "    geo.Append([\"line\", p1, p1b],    leftdomain=2, rightdomain=0, bc=\"Liq_Outlet_b\")  # new domain\n",
    "    geo.Append([\"line\", p1b, p2],    leftdomain=3, rightdomain=0, bc=\"bottom\")\n",
    "    geo.Append([\"line\", p2, p3_inset],     leftdomain=4, rightdomain=0, bc=\"Gas_Inlet\")\n",
    "    geo.Append([\"line\",p3_inset,p3], leftdomain=4 ,rightdomain=0, bc = \"Gas_Buffer\")\n",
    "    \n",
    "    # Right edge\n",
    "    geo.Append([\"line\", p3, p4],     leftdomain=4, rightdomain=0, bc=\"right\")\n",
    "\n",
    "    # Top edges\n",
    "    geo.Append([\"line\", p4, p5],     leftdomain=4, rightdomain=0, bc=\"Gas_Outlet\")\n",
    "    geo.Append([\"line\", p5, p1b_top],leftdomain=3, rightdomain=0, bc=\"top\")\n",
    "    geo.Append([\"line\", p1b_top, p6],leftdomain=2, rightdomain=0, bc=\"top\")     # new domain\n",
    "    geo.Append([\"line\", p6, p7_inset],     leftdomain=1, rightdomain=0, bc=\"Liq_Inlet\")\n",
    "    geo.Append([\"line\", p7_inset,p7],     leftdomain=1, rightdomain=0, bc=\"Liq_Buffer\")\n",
    "\n",
    "    # Left edge\n",
    "    geo.Append([\"line\", p7, p0],     leftdomain=1, rightdomain=0, bc=\"left\")\n",
    "\n",
    "    # Internal vertical separators\n",
    "    interface = geo.Append([\"line\", p1, p6],       leftdomain=1, rightdomain=2)  # \n",
    "    geo.Append([\"line\", p1b, p1b_top], leftdomain=2, rightdomain=3)  # \n",
    "    geo.Append([\"line\", p2, p5],       leftdomain=3, rightdomain=4)  #\n",
    "\n",
    "\n",
    "\n",
    "    # Set mesh size per domain\n",
    "\n",
    "    geo.SetDomainMaxH(1, 0.00009)\n",
    "    geo.SetDomainMaxH(2, 0.00009)  # new domain (optional: adjust mesh size)\n",
    "    geo.SetDomainMaxH(3, 0.0007)\n",
    "    geo.SetDomainMaxH(4, 0.0005)\n",
    "\n",
    "    return geo.GenerateMesh()\n",
    "\n",
    "\n",
    "mesh =  Mesh(MakeGeometry())"
   ]
  },
  {
   "cell_type": "markdown",
   "metadata": {},
   "source": [
    "## Setup"
   ]
  },
  {
   "cell_type": "code",
   "execution_count": 2,
   "metadata": {},
   "outputs": [
    {
     "data": {
      "application/vnd.jupyter.widget-view+json": {
       "model_id": "e226aa4e2cb449448ca3954c656cf5fa",
       "version_major": 2,
       "version_minor": 0
      },
      "text/plain": [
       "WebGuiWidget(layout=Layout(height='50vh', width='100%'), value={'gui_settings': {}, 'ngsolve_version': '6.2.24…"
      ]
     },
     "metadata": {},
     "output_type": "display_data"
    },
    {
     "data": {
      "text/plain": [
       "BaseWebGuiScene"
      ]
     },
     "execution_count": 2,
     "metadata": {},
     "output_type": "execute_result"
    }
   ],
   "source": [
    "Draw(mesh)"
   ]
  },
  {
   "cell_type": "code",
   "execution_count": 3,
   "metadata": {},
   "outputs": [],
   "source": [
    "# =============================================================================\n",
    "# FINITE ELEMENT SPACES\n",
    "# =============================================================================\n",
    "\n",
    "# Navier-Stokes spaces\n",
    "V = VectorH1(mesh, order=2, dirichlet=\"Liq_Inlet|Gas_Inlet|top|bottom|left|right|Liq_Buffer|Gas_Buffer\") #dirichlety = \"top|bottom\"\n",
    "Q = H1(mesh, order=1,dirichlet=\"\")  # pressure constraints\n",
    "X = V*Q  # Mixed velocity-pressure space\n",
    "\n",
    "# AllenCahn Space\n",
    "L = H1(mesh, order=2,dirichlet=\"left|Liq_Inlet|Gas_Inlet|Gas_Outlet|Gas_Buffer|top\") \n",
    "\n",
    "# GRID FUNCTIONS\n",
    "# =============================================================================\n",
    "\n",
    "# Navier-Stokes solutions\n",
    "u_p = GridFunction(X)      # Current [u, p] solution\n",
    "u_p_old = GridFunction(X)  # Previous time step [u, p]\n",
    "\n",
    "# Phase field solutions  \n",
    "phi = GridFunction(L)      # Current [phi, mu] solution\n",
    "phi_old = GridFunction(L)  # Previous time step [phi, mu]\n",
    "# Boundary condition helpers|\n",
    "u_D = GridFunction(V)  # Velocity BC helper\n",
    "p_D = GridFunction(Q)  # Pressure BC helper\n"
   ]
  },
  {
   "cell_type": "code",
   "execution_count": 4,
   "metadata": {},
   "outputs": [],
   "source": [
    "# =============================================================================\n",
    "# INITIALIZATION\n",
    "# =============================================================================\n",
    "epsilon = 0.00006\n",
    "d = x - 0.001         # signed distance\n",
    "s = d / (2 * epsilon)      # scaled distance\n",
    "phi_init = (1 - exp(-2*s)) / (1 + exp(-2*s))\n",
    "\n",
    "phi.Set(phi_init)\n",
    "phi_old.Set(phi_init)\n",
    "\n",
    "# Initialize Navier-Stokes (can be zero or small perturbation)\n",
    "u_p.components[0].Set(CoefficientFunction((0.0, 0.0)))  # Initial velocity\n",
    "u_p.components[1].Set(0.0)             # Initial pressure\n",
    "u_p_old.vec.data = u_p.vec"
   ]
  },
  {
   "cell_type": "code",
   "execution_count": 5,
   "metadata": {},
   "outputs": [
    {
     "data": {
      "text/plain": [
       "294020"
      ]
     },
     "execution_count": 5,
     "metadata": {},
     "output_type": "execute_result"
    }
   ],
   "source": [
    "X.ndof"
   ]
  },
  {
   "cell_type": "code",
   "execution_count": 6,
   "metadata": {},
   "outputs": [],
   "source": [
    "mu_l = 0.001 #Pascal*seconds (liquid viscosity)\n",
    "mu_g = 1.8e-5 #Pa*s (gas viscosity)\n",
    "rho_l = 997.0 #Kg/m3 (liquid density)\n",
    "rho_g = 1.2 #Kg/m3 (gas density)\n",
    "surface_tension = 0.072 #Surface tension force N/m"
   ]
  },
  {
   "cell_type": "markdown",
   "metadata": {},
   "source": [
    "## Solver"
   ]
  },
  {
   "cell_type": "code",
   "execution_count": 7,
   "metadata": {},
   "outputs": [],
   "source": [
    "def BuildNavierStokes(X, dt,\n",
    "                      v_test, q_test,\n",
    "                      u_trial, p_trial,\n",
    "                      u_p_old,\n",
    "                      rho, mu,g):        #\n",
    "\n",
    "    \"\"\"\n",
    "    Builds the weak-form Navier–Stokes residual suitable for Newton,\n",
    "    including a weak velocity BC on `inlet_tag` if `gas_inlet_cf` is given.\n",
    "    \"\"\"\n",
    "\n",
    "    u_old = u_p_old.components[0]\n",
    "\n",
    "    h = specialcf.mesh_size                 # mesh size function\n",
    "\n",
    "    a_ns = BilinearForm(X)\n",
    "\n",
    "    # Time derivative\n",
    "    a_ns += (rho / dt) * (u_trial - u_old) * v_test * dx\n",
    "\n",
    "    # Convection\n",
    "    a_ns += rho * InnerProduct(grad(u_trial) * u_trial, v_test) * dx\n",
    "\n",
    "    # Viscous term\n",
    "    a_ns += mu * InnerProduct(Sym(grad(u_trial)), Sym(grad(v_test))) * dx\n",
    "\n",
    "    # Pressure terms\n",
    "    a_ns += (-p_trial * div(v_test)) * dx\n",
    "    a_ns += ( div(u_trial) * q_test ) * dx\n",
    "\n",
    "    # Gravity\n",
    "    a_ns += -(rho * g * v_test) * dx\n",
    "\n",
    "    return a_ns\n"
   ]
  },
  {
   "cell_type": "code",
   "execution_count": 8,
   "metadata": {},
   "outputs": [
    {
     "data": {
      "application/vnd.jupyter.widget-view+json": {
       "model_id": "50a0499e5a884fdd9b6d8c94bb2eb7dc",
       "version_major": 2,
       "version_minor": 0
      },
      "text/plain": [
       "WebGuiWidget(layout=Layout(height='50vh', width='100%'), value={'gui_settings': {}, 'ngsolve_version': '6.2.24…"
      ]
     },
     "metadata": {},
     "output_type": "display_data"
    },
    {
     "data": {
      "text/plain": [
       "BaseWebGuiScene"
      ]
     },
     "execution_count": 8,
     "metadata": {},
     "output_type": "execute_result"
    }
   ],
   "source": [
    "Draw(phi,mesh)"
   ]
  },
  {
   "cell_type": "code",
   "execution_count": 9,
   "metadata": {},
   "outputs": [],
   "source": [
    "def UpdateMaterialParameters(phi, rho_l, rho_g, dx):\n",
    "    \"\"\"Get smoothed material properties using Heaviside function\"\"\"\n",
    "    eps = 3 * dx\n",
    "    H = IfPos(phi + eps, \n",
    "              IfPos(eps - phi,\n",
    "                    0.5 * (1 + phi/eps + sin(pi * phi/eps) / pi),\n",
    "                    1.0),\n",
    "              0.0)\n",
    "    return rho_l + (rho_g - rho_l) * H"
   ]
  },
  {
   "cell_type": "code",
   "execution_count": 10,
   "metadata": {},
   "outputs": [],
   "source": [
    "# -------------------------------------------------------------\n",
    "ramp_steps  = 30               # number of ramp-up steps\n",
    "ramp_type   = \"tanh\"           # or \"linear\", \"tanh\"\n",
    "# -------------------------------------------------------------\n",
    "\n",
    "def ramp_scale(step,ramp_steps,ramp_type):\n",
    "    if step >= ramp_steps:\n",
    "        return 1.0\n",
    "    if ramp_type == \"linear\":\n",
    "        return step / ramp_steps\n",
    "    if ramp_type == \"halfcos\":\n",
    "        from math import cos, pi\n",
    "        return 0.5*(1 - cos(pi * step / ramp_steps))\n",
    "    if ramp_type == \"tanh\":\n",
    "        from math import tanh\n",
    "        delta = 0.15 * ramp_steps    # smoothness width in step units\n",
    "        return 0.5 * (1 + tanh((step - 0.5 * ramp_steps) / delta))\n",
    "    raise ValueError(\"Unknown ramp type\")\n"
   ]
  },
  {
   "cell_type": "code",
   "execution_count": 11,
   "metadata": {
    "scrolled": true
   },
   "outputs": [
    {
     "name": "stdout",
     "output_type": "stream",
     "text": [
      "Logical CPUs (threads): 16\n"
     ]
    }
   ],
   "source": [
    "import time\n",
    "from ngsolve import TaskManager, SetNumThreads\n",
    "SetNumThreads(18)\n",
    "import multiprocessing\n",
    "print(\"Logical CPUs (threads):\", multiprocessing.cpu_count())\n"
   ]
  },
  {
   "cell_type": "code",
   "execution_count": 12,
   "metadata": {},
   "outputs": [],
   "source": [
    "def BuildAllenCahn(AC_space, dt, phi_old, vel_cf, tau, eps,\n",
    "                   inflow_penalty=1.0, inlet_group=\"Liq_Inlet\",phi_inlet_cf = phi_init):\n",
    "    phi, w = AC_space.TnT()\n",
    "    a_ac = BilinearForm(AC_space)\n",
    "\n",
    "    # Base terms\n",
    "    a_ac += ((phi - phi_old) / dt) * w * dx\n",
    "    a_ac += InnerProduct(vel_cf, grad(phi)) * w * dx\n",
    "    a_ac += (1.0 / tau) * (phi - phi**3) * w * dx\n",
    "    a_ac += (eps**2 / tau) * InnerProduct(grad(phi), grad(w)) * dx\n",
    "\n",
    "    # SUPG (volume only)\n",
    "    hK   = specialcf.mesh_size\n",
    "    umag = Norm(vel_cf)\n",
    "    tau_supg = 1.0 / sqrt( (2.0/dt)**2 + (2.0*umag/hK)**2 )\n",
    "    R_no_diff = ((phi - phi_old)/dt\n",
    "                 + InnerProduct(vel_cf, grad(phi))\n",
    "                 + (1.0/tau)*(phi - phi**3))\n",
    "    a_ac += tau_supg * InnerProduct(vel_cf, grad(w)) * R_no_diff * dx\n",
    "\n",
    "    # Inflow upwind penalty (your phi_inlet_cf is assumed defined)\n",
    "    mesh = AC_space.mesh\n",
    "    n  = specialcf.normal(mesh.Boundaries(inlet_group))\n",
    "    un = InnerProduct(vel_cf, n)           # >0 outflow, <0 inflow\n",
    "    inflow = IfPos(-un, -un, 0)            # max(0, -u·n)\n",
    "\n",
    "    a_ac += inflow_penalty * inflow * (phi - phi_inlet_cf) * w * ds(inlet_group)\n",
    "\n",
    "\n",
    "    return a_ac\n",
    "\n"
   ]
  },
  {
   "cell_type": "code",
   "execution_count": 13,
   "metadata": {},
   "outputs": [],
   "source": [
    "    #Trial n Test\n",
    "\n",
    "test_functions = X.TestFunction()\n",
    "\n",
    "trial_functions = X.TrialFunction()\n",
    "\n",
    "v_test,q_test = test_functions # for velocity, and pressure\n",
    "\n",
    "u_trial,p_trial = trial_functions #for velocity, and pressure\n",
    "\n",
    "def cosine_wave(x, f):\n",
    "    phase_shift = 1 / (2 * f)  # shifts the cosine so it starts at zero\n",
    "    return 0.5 * (np.cos(2 * np.pi * f * (x - phase_shift)) + 1)\n",
    "\n",
    "def ClampPhi(phi_gf, lo=-1.0, hi=1.0):\n",
    "    \"\"\"Clamp phase field values in-place to [lo, hi].\"\"\"\n",
    "    arr = phi_gf.vec.FV().NumPy()\n",
    "    arr[:] = np.minimum(np.maximum(arr, lo), hi)\n",
    "\n"
   ]
  },
  {
   "cell_type": "code",
   "execution_count": 14,
   "metadata": {},
   "outputs": [
    {
     "data": {
      "application/vnd.jupyter.widget-view+json": {
       "model_id": "465d1c35a87f4f2cb3fddbd67eb43710",
       "version_major": 2,
       "version_minor": 0
      },
      "text/plain": [
       "WebGuiWidget(layout=Layout(height='50vh', width='100%'), value={'gui_settings': {}, 'ngsolve_version': '6.2.24…"
      ]
     },
     "metadata": {},
     "output_type": "display_data"
    },
    {
     "data": {
      "text/plain": [
       "BaseWebGuiScene"
      ]
     },
     "execution_count": 14,
     "metadata": {},
     "output_type": "execute_result"
    }
   ],
   "source": [
    "Draw(grad(phi),mesh)"
   ]
  },
  {
   "cell_type": "code",
   "execution_count": null,
   "metadata": {
    "scrolled": true
   },
   "outputs": [
    {
     "name": "stdout",
     "output_type": "stream",
     "text": [
      "Newton iteration  0\n",
      "err =  0.000890841730956217\n",
      "Newton iteration  1\n",
      "err =  0.00044542394567896316\n",
      "Newton iteration  2\n",
      "err =  3.862986343156098e-08\n",
      "Newton iteration  3\n",
      "err =  2.1930432159262338e-14\n",
      "LEVEL SET 0\n",
      "Time to get here -7.536816596984863\n"
     ]
    }
   ],
   "source": [
    "\n",
    "dt = CoefficientFunction(1e-4)\n",
    "dt_value = 1e-4\n",
    "\n",
    "h = specialcf.mesh_size\n",
    "t_curr= 0\n",
    "\n",
    "Umax_target = 0.42\n",
    "step, steps = 0, 2000\n",
    "spinup = 300\n",
    "start_time = time.time()\n",
    "freq = 50 #hz\n",
    "\n",
    "\n",
    "#arr = np.load(\"Navier_Stokes_GFU.npy\")   \n",
    "#u_p_old.vec.FV().NumPy()[:] = arr           # ← in-place copy\n",
    "#u_p.vec.FV().NumPy()[:] = arr           # ← in-place copy\n",
    "\n",
    "#phi_arr = np.load(\"Phi_Thin.npy\")   \n",
    "#phi.vec.FV().NumPy()[:] = phi_arr           # ← in-place copy\n",
    "\n",
    "\n",
    "# Your main loop with VOF update added:\n",
    "u_p.components[1].vec[:] = 0\n",
    "\n",
    "with TaskManager():\n",
    "    while step < steps:\n",
    "        # ------------------------------------------------------------------\n",
    "        # 1. UPDATE MATERIAL PROPERTIES\n",
    "        # ------------------------------------------------------------------\n",
    "\n",
    "    \n",
    "        t_curr += dt_value\n",
    "\n",
    "        S = ramp_scale(step,50,\"tanh\")\n",
    "        Sg = ramp_scale(step,50,\"tanh\")\n",
    "        \n",
    "        g = CoefficientFunction((0.0, Sg*-9.807))   # gravitational acceleration\n",
    "        \n",
    "        #jump = cosine_wave(t_curr,freq) * Umax_target + 1e-6\n",
    "\n",
    "        u_max = S * Umax_target #+ jump\n",
    "        \n",
    "        rho_smoothed = UpdateMaterialParameters(phi, rho_l, rho_g,0.3)\n",
    "        mu_smoothed = UpdateMaterialParameters(phi, mu_l, mu_g,0.3)\n",
    "\n",
    "        # ------------------------------------------------------------------\n",
    "        # 2. NAVIER–STOKES SOLVE (unchanged)\n",
    "        # -----------------------------------------------------------------\n",
    "\n",
    "\n",
    "        #COMPUTE PARABOLA FOR LIQ IN\n",
    "        xmin = 0.0 + 5e-5\n",
    "        xmax = 0.001\n",
    "        \n",
    "        xhat = (x - xmin) / (xmax - xmin)\n",
    "\n",
    "        parabola = IfPos(x - xmin,\n",
    "                 IfPos(xmax - x, 4 * xhat * (1 - xhat), 0),\n",
    "                 0)\n",
    "        \n",
    "        #COMPUTE PARABOLA FOR GAS IN\n",
    "        \n",
    "        xmin_g = 0.007\n",
    "        xmax_g = 0.010 - 5e-5\n",
    "        \n",
    "        xhat_g = (x - xmin_g) / (xmax_g - xmin_g)\n",
    "        \n",
    "        parabola_g = IfPos(x - xmin_g,\n",
    "                 IfPos(xmax_g - x, 4 * xhat_g * (1 - xhat_g), 0),\n",
    "                 0)\n",
    "        \n",
    "        uin = CoefficientFunction((0, -1*u_max*parabola))\n",
    "        uin_g = CoefficientFunction((0, 0.9*Sg*parabola_g))\n",
    "\n",
    "        u_bc = CF((\n",
    "            IfPos(0.002 - x, uin[0], uin_g[0]),  # x-component (both 0 in your case)\n",
    "            IfPos(0.002 - x, uin[1], uin_g[1])   # y-component\n",
    "        ))\n",
    "                \n",
    "        \n",
    "        A_ns = BuildNavierStokes(X, dt, v_test, q_test, u_trial, p_trial,\n",
    "                                u_p_old, rho_smoothed, mu_smoothed,g)\n",
    "        \n",
    "        #print(f\"[Step {step}]\")\n",
    "\n",
    "        u_p.components[0].Set(u_bc, definedon=mesh.Boundaries(\"Liq_Inlet|Gas_Inlet\"))\n",
    "        damp = 0.5\n",
    "        \n",
    "        Newton(A_ns, u_p,\n",
    "               freedofs=X.FreeDofs(),\n",
    "               maxit=12, maxerr=1e-8,\n",
    "               inverse=\"pardiso\", dampfactor=damp,\n",
    "               printing=True if step % 50 == 0 else False )\n",
    "\n",
    "        \n",
    "        u = u_p.components[0]\n",
    "\n",
    " \n",
    "        vel_cf = u                                # use solved velocity field\n",
    "\n",
    "        if step > spinup:\n",
    "            \n",
    "\n",
    "            A_ac = BuildAllenCahn(AC_space  = L,\n",
    "                                  dt        = dt_value,\n",
    "                                  vel_cf    = vel_cf,\n",
    "                                  tau       = 1,\n",
    "                                  phi_old   = phi_old,\n",
    "                                  eps       = epsilon,)            \n",
    "            Newton(A_ac, phi,\n",
    "                   freedofs   = L.FreeDofs(),\n",
    "                   maxit      = 12,\n",
    "                   maxerr     = 1e-8,\n",
    "                   inverse    = \"pardiso\",\n",
    "                   dampfactor = 0.1,\n",
    "                   printing   = False)\n",
    "\n",
    "\n",
    "            ClampPhi(phi, lo=-1.0, hi=1.0)\n",
    "            # roll phase field forward\n",
    "            phi_old.vec.data = phi.vec.data\n",
    "            \n",
    "        if  step % 500 == 0 :\n",
    "            print(f'LEVEL SET {step}')\n",
    "            #DrawDC(phi_old,-1,1,mesh)\n",
    "            #Draw(u_p.components[0][1],mesh)\n",
    "           # Draw(u_p.components[1],mesh)\n",
    "            #DrawDC(phi_old,-1,1,mesh)\n",
    "            #Draw(phi_old,mesh)\n",
    "            print(f\"Time to get here {start_time - time.time()}\")\n",
    "\n",
    "            \n",
    "        u_p_old.vec.data = u_p.vec.data\n",
    "        \n",
    "    \n",
    "        step += 1\n",
    "        #print(f\"Starting  Step {step+1}\")"
   ]
  },
  {
   "cell_type": "code",
   "execution_count": null,
   "metadata": {},
   "outputs": [],
   "source": [
    "Draw(phi,mesh)"
   ]
  },
  {
   "cell_type": "code",
   "execution_count": null,
   "metadata": {},
   "outputs": [],
   "source": [
    "Draw(u_p_old.components[0],mesh)"
   ]
  },
  {
   "cell_type": "code",
   "execution_count": null,
   "metadata": {},
   "outputs": [],
   "source": [
    "np.save(\"Phi_Thin.npy\", phi_old.vec.FV().NumPy())\n",
    "np.save(\"Matching_NS.npy\",u_p_old.vec.FV().NumPy())"
   ]
  }
 ],
 "metadata": {
  "kernelspec": {
   "display_name": "Python 3 (ipykernel)",
   "language": "python",
   "name": "python3"
  },
  "language_info": {
   "codemirror_mode": {
    "name": "ipython",
    "version": 3
   },
   "file_extension": ".py",
   "mimetype": "text/x-python",
   "name": "python",
   "nbconvert_exporter": "python",
   "pygments_lexer": "ipython3",
   "version": "3.11.2"
  }
 },
 "nbformat": 4,
 "nbformat_minor": 4
}
