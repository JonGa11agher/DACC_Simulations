{
 "cells": [
  {
   "cell_type": "markdown",
   "metadata": {},
   "source": [
    "## Mesh"
   ]
  },
  {
   "cell_type": "code",
   "execution_count": 1,
   "metadata": {},
   "outputs": [
    {
     "name": "stdout",
     "output_type": "stream",
     "text": [
      "importing ngsxfem-2.1.2405\n"
     ]
    }
   ],
   "source": [
    "from ngsolve import *\n",
    "from netgen.occ import *\n",
    "from netgen.geom2d import SplineGeometry\n",
    "from ngsolve.internal import *\n",
    "from xfem import *\n",
    "import numpy as np\n",
    "import ipywidgets\n",
    "from ngsolve.solvers import *\n",
    "import gc\n",
    "def MakeGeometry():\n",
    "    geo = SplineGeometry()\n",
    "\n",
    "    # Define Points:|\n",
    "    p0 = geo.AppendPoint(0.0,     0.0)\n",
    "    p0_inset = geo.AppendPoint(0.00005,0.0)\n",
    "    p1 = geo.AppendPoint(0.001,   0.0)\n",
    "    p1b = geo.AppendPoint(0.002,  0.0)\n",
    "    p2 = geo.AppendPoint(0.007, 0.0)\n",
    "    p3_inset = geo.AppendPoint(0.00995,0.0)\n",
    "    p3 = geo.AppendPoint(0.01, 0.0)\n",
    "    \n",
    "    p4 = geo.AppendPoint(0.01, 0.10)\n",
    "    p5 = geo.AppendPoint(0.008, 0.10)\n",
    "    p1b_top = geo.AppendPoint(0.002,  0.10)\n",
    "    \n",
    "    p6 = geo.AppendPoint(0.001,   0.10)\n",
    "    p7 = geo.AppendPoint(0.00,   0.10)\n",
    "    p7_inset = geo.AppendPoint(0.00005,0.10)\n",
    "\n",
    "    # Bottom edges\n",
    " \n",
    "    geo.Append([\"line\", p0, p1],     leftdomain=1, rightdomain=0, bc=\"Liq_Outlet_a\")\n",
    "    geo.Append([\"line\", p1, p1b],    leftdomain=2, rightdomain=0, bc=\"Liq_Outlet_b\")  # new domain\n",
    "    geo.Append([\"line\", p1b, p2],    leftdomain=3, rightdomain=0, bc=\"bottom\")\n",
    "    geo.Append([\"line\", p2, p3_inset],     leftdomain=4, rightdomain=0, bc=\"Gas_Inlet\")\n",
    "    geo.Append([\"line\",p3_inset,p3], leftdomain=4 ,rightdomain=0, bc = \"Gas_Buffer\")\n",
    "    \n",
    "    # Right edge\n",
    "    geo.Append([\"line\", p3, p4],     leftdomain=4, rightdomain=0, bc=\"right\")\n",
    "\n",
    "    # Top edges\n",
    "    geo.Append([\"line\", p4, p5],     leftdomain=4, rightdomain=0, bc=\"Gas_Outlet\")\n",
    "    geo.Append([\"line\", p5, p1b_top],leftdomain=3, rightdomain=0, bc=\"top\")\n",
    "    geo.Append([\"line\", p1b_top, p6],leftdomain=2, rightdomain=0, bc=\"top\")     # new domain\n",
    "    geo.Append([\"line\", p6, p7_inset],     leftdomain=1, rightdomain=0, bc=\"Liq_Inlet\")\n",
    "    geo.Append([\"line\", p7_inset,p7],     leftdomain=1, rightdomain=0, bc=\"Liq_Buffer\")\n",
    "\n",
    "    # Left edge\n",
    "    geo.Append([\"line\", p7, p0],     leftdomain=1, rightdomain=0, bc=\"left\")\n",
    "\n",
    "    # Internal vertical separators\n",
    "    interface = geo.Append([\"line\", p1, p6],       leftdomain=1, rightdomain=2)  # \n",
    "    geo.Append([\"line\", p1b, p1b_top], leftdomain=2, rightdomain=3)  # \n",
    "    geo.Append([\"line\", p2, p5],       leftdomain=3, rightdomain=4)  #\n",
    "\n",
    "\n",
    "\n",
    "    # Set mesh size per domain\n",
    "\n",
    "    geo.SetDomainMaxH(1, 0.00009)\n",
    "    geo.SetDomainMaxH(2, 0.00009)  # new domain (optional: adjust mesh size)\n",
    "    geo.SetDomainMaxH(3, 0.0007)\n",
    "    geo.SetDomainMaxH(4, 0.0005)\n",
    "\n",
    "    return geo.GenerateMesh()\n",
    "\n",
    "\n",
    "mesh =  Mesh(MakeGeometry())"
   ]
  },
  {
   "cell_type": "markdown",
   "metadata": {},
   "source": [
    "## Setup"
   ]
  },
  {
   "cell_type": "code",
   "execution_count": 2,
   "metadata": {},
   "outputs": [
    {
     "data": {
      "application/vnd.jupyter.widget-view+json": {
       "model_id": "60749babdafc4ed2b4a30c08aa5e7fb5",
       "version_major": 2,
       "version_minor": 0
      },
      "text/plain": [
       "WebGuiWidget(layout=Layout(height='50vh', width='100%'), value={'gui_settings': {}, 'ngsolve_version': '6.2.24…"
      ]
     },
     "metadata": {},
     "output_type": "display_data"
    },
    {
     "data": {
      "text/plain": [
       "BaseWebGuiScene"
      ]
     },
     "execution_count": 2,
     "metadata": {},
     "output_type": "execute_result"
    }
   ],
   "source": [
    "Draw(mesh)"
   ]
  },
  {
   "cell_type": "code",
   "execution_count": 3,
   "metadata": {},
   "outputs": [],
   "source": [
    "# =============================================================================\n",
    "# FINITE ELEMENT SPACES\n",
    "# =============================================================================\n",
    "\n",
    "# Navier-Stokes spaces\n",
    "V = VectorH1(mesh, order=2, dirichlet=\"Liq_Inlet|Gas_Inlet|top|bottom|left|right|Liq_Buffer|Gas_Buffer\") #dirichlety = \"top|bottom\"\n",
    "Q = H1(mesh, order=1,dirichlet=\"\")  # pressure constraints\n",
    "X = V*Q  # Mixed velocity-pressure space\n",
    "\n",
    "# AllenCahn Space\n",
    "L = H1(mesh, order=2,dirichlet=\"left|Liq_Inlet|Gas_Inlet|Gas_Outlet|Gas_Buffer|top\") \n",
    "\n",
    "# GRID FUNCTIONS\n",
    "# =============================================================================\n",
    "\n",
    "# Navier-Stokes solutions\n",
    "u_p = GridFunction(X)      # Current [u, p] solution\n",
    "u_p_old = GridFunction(X)  # Previous time step [u, p]\n",
    "\n",
    "# Phase field solutions  \n",
    "phi = GridFunction(L)      # Current [phi, mu] solution\n",
    "phi_old = GridFunction(L)  # Previous time step [phi, mu]\n",
    "# Boundary condition helpers|\n",
    "u_D = GridFunction(V)  # Velocity BC helper\n",
    "p_D = GridFunction(Q)  # Pressure BC helper\n"
   ]
  },
  {
   "cell_type": "code",
   "execution_count": 4,
   "metadata": {},
   "outputs": [],
   "source": [
    "# =============================================================================\n",
    "# INITIALIZATION\n",
    "# =============================================================================\n",
    "epsilon = 0.00006\n",
    "d = x - 0.001         # signed distance\n",
    "s = d / (2 * epsilon)      # scaled distance\n",
    "phi_init = (1 - exp(-2*s)) / (1 + exp(-2*s))\n",
    "\n",
    "phi.Set(phi_init)\n",
    "phi_old.Set(phi_init)\n",
    "\n",
    "# Initialize Navier-Stokes (can be zero or small perturbation)\n",
    "u_p.components[0].Set(CoefficientFunction((0.0, 0.0)))  # Initial velocity\n",
    "u_p.components[1].Set(0.0)             # Initial pressure\n",
    "u_p_old.vec.data = u_p.vec"
   ]
  },
  {
   "cell_type": "code",
   "execution_count": 5,
   "metadata": {},
   "outputs": [
    {
     "data": {
      "text/plain": [
       "294020"
      ]
     },
     "execution_count": 5,
     "metadata": {},
     "output_type": "execute_result"
    }
   ],
   "source": [
    "X.ndof"
   ]
  },
  {
   "cell_type": "code",
   "execution_count": 6,
   "metadata": {},
   "outputs": [],
   "source": [
    "mu_l = 0.001 #Pascal*seconds (liquid viscosity)\n",
    "mu_g = 1.8e-5 #Pa*s (gas viscosity)\n",
    "rho_l = 997.0 #Kg/m3 (liquid density)\n",
    "rho_g = 1.2 #Kg/m3 (gas density)\n",
    "surface_tension = 0.072 #Surface tension force N/m"
   ]
  },
  {
   "cell_type": "markdown",
   "metadata": {},
   "source": [
    "## Solver"
   ]
  },
  {
   "cell_type": "code",
   "execution_count": 7,
   "metadata": {},
   "outputs": [],
   "source": [
    "def BuildNavierStokes(X, dt,\n",
    "                      v_test, q_test,\n",
    "                      u_trial, p_trial,\n",
    "                      u_p_old,\n",
    "                      rho, mu,g):        #\n",
    "\n",
    "    \"\"\"\n",
    "    Builds the weak-form Navier–Stokes residual suitable for Newton,\n",
    "    including a weak velocity BC on `inlet_tag` if `gas_inlet_cf` is given.\n",
    "    \"\"\"\n",
    "\n",
    "    u_old = u_p_old.components[0]\n",
    "\n",
    "    h = specialcf.mesh_size                 # mesh size function\n",
    "\n",
    "    a_ns = BilinearForm(X)\n",
    "\n",
    "    # Time derivative\n",
    "    a_ns += (rho / dt) * (u_trial - u_old) * v_test * dx\n",
    "\n",
    "    # Convection\n",
    "    a_ns += rho * InnerProduct(grad(u_trial) * u_trial, v_test) * dx\n",
    "\n",
    "    # Viscous term\n",
    "    a_ns += mu * InnerProduct(Sym(grad(u_trial)), Sym(grad(v_test))) * dx\n",
    "\n",
    "    # Pressure terms\n",
    "    a_ns += (-p_trial * div(v_test)) * dx\n",
    "    a_ns += ( div(u_trial) * q_test ) * dx\n",
    "\n",
    "    # Gravity\n",
    "    a_ns += -(rho * g * v_test) * dx\n",
    "\n",
    "    return a_ns\n"
   ]
  },
  {
   "cell_type": "code",
   "execution_count": 8,
   "metadata": {},
   "outputs": [
    {
     "data": {
      "application/vnd.jupyter.widget-view+json": {
       "model_id": "641ca166b040440cad5559629d88570a",
       "version_major": 2,
       "version_minor": 0
      },
      "text/plain": [
       "WebGuiWidget(layout=Layout(height='50vh', width='100%'), value={'gui_settings': {}, 'ngsolve_version': '6.2.24…"
      ]
     },
     "metadata": {},
     "output_type": "display_data"
    },
    {
     "data": {
      "text/plain": [
       "BaseWebGuiScene"
      ]
     },
     "execution_count": 8,
     "metadata": {},
     "output_type": "execute_result"
    }
   ],
   "source": [
    "Draw(phi,mesh)"
   ]
  },
  {
   "cell_type": "code",
   "execution_count": 9,
   "metadata": {},
   "outputs": [],
   "source": [
    "def UpdateMaterialParameters(phi, rho_l, rho_g, dx):\n",
    "    \"\"\"Get smoothed material properties using Heaviside function\"\"\"\n",
    "    eps = 3 * dx\n",
    "    H = IfPos(phi + eps, \n",
    "              IfPos(eps - phi,\n",
    "                    0.5 * (1 + phi/eps + sin(pi * phi/eps) / pi),\n",
    "                    1.0),\n",
    "              0.0)\n",
    "    return rho_l + (rho_g - rho_l) * H"
   ]
  },
  {
   "cell_type": "code",
   "execution_count": 10,
   "metadata": {},
   "outputs": [],
   "source": [
    "# -------------------------------------------------------------\n",
    "ramp_steps  = 30               # number of ramp-up steps\n",
    "ramp_type   = \"tanh\"           # or \"linear\", \"tanh\"\n",
    "# -------------------------------------------------------------\n",
    "\n",
    "def ramp_scale(step,ramp_steps,ramp_type):\n",
    "    if step >= ramp_steps:\n",
    "        return 1.0\n",
    "    if ramp_type == \"linear\":\n",
    "        return step / ramp_steps\n",
    "    if ramp_type == \"halfcos\":\n",
    "        from math import cos, pi\n",
    "        return 0.5*(1 - cos(pi * step / ramp_steps))\n",
    "    if ramp_type == \"tanh\":\n",
    "        from math import tanh\n",
    "        delta = 0.15 * ramp_steps    # smoothness width in step units\n",
    "        return 0.5 * (1 + tanh((step - 0.5 * ramp_steps) / delta))\n",
    "    raise ValueError(\"Unknown ramp type\")\n"
   ]
  },
  {
   "cell_type": "code",
   "execution_count": 11,
   "metadata": {
    "scrolled": true
   },
   "outputs": [
    {
     "name": "stdout",
     "output_type": "stream",
     "text": [
      "Logical CPUs (threads): 16\n"
     ]
    }
   ],
   "source": [
    "import time\n",
    "from ngsolve import TaskManager, SetNumThreads\n",
    "SetNumThreads(18)\n",
    "import multiprocessing\n",
    "print(\"Logical CPUs (threads):\", multiprocessing.cpu_count())\n"
   ]
  },
  {
   "cell_type": "code",
   "execution_count": 12,
   "metadata": {},
   "outputs": [],
   "source": [
    "def BuildAllenCahn(AC_space, dt, phi_old, vel_cf, tau, eps,\n",
    "                   inflow_penalty=1.0, inlet_group=\"Liq_Inlet\",phi_inlet_cf = phi_init):\n",
    "    phi, w = AC_space.TnT()\n",
    "    a_ac = BilinearForm(AC_space)\n",
    "\n",
    "    # Base terms\n",
    "    a_ac += ((phi - phi_old) / dt) * w * dx\n",
    "    a_ac += InnerProduct(vel_cf, grad(phi)) * w * dx\n",
    "    a_ac += (1.0 / tau) * (phi - phi**3) * w * dx\n",
    "    a_ac += (eps**2 / tau) * InnerProduct(grad(phi), grad(w)) * dx\n",
    "\n",
    "    # SUPG (volume only)\n",
    "    hK   = specialcf.mesh_size\n",
    "    umag = Norm(vel_cf)\n",
    "    tau_supg = 1.0 / sqrt( (2.0/dt)**2 + (2.0*umag/hK)**2 )\n",
    "    R_no_diff = ((phi - phi_old)/dt\n",
    "                 + InnerProduct(vel_cf, grad(phi))\n",
    "                 + (1.0/tau)*(phi - phi**3))\n",
    "    a_ac += tau_supg * InnerProduct(vel_cf, grad(w)) * R_no_diff * dx\n",
    "\n",
    "    # Inflow upwind penalty (your phi_inlet_cf is assumed defined)\n",
    "    mesh = AC_space.mesh\n",
    "    n  = specialcf.normal(mesh.Boundaries(inlet_group))\n",
    "    un = InnerProduct(vel_cf, n)           # >0 outflow, <0 inflow\n",
    "    inflow = IfPos(-un, -un, 0)            # max(0, -u·n)\n",
    "\n",
    "    a_ac += inflow_penalty * inflow * (phi - phi_inlet_cf) * w * ds(inlet_group)\n",
    "\n",
    "\n",
    "    return a_ac\n",
    "\n"
   ]
  },
  {
   "cell_type": "code",
   "execution_count": 13,
   "metadata": {},
   "outputs": [],
   "source": [
    "    #Trial n Test\n",
    "\n",
    "test_functions = X.TestFunction()\n",
    "\n",
    "trial_functions = X.TrialFunction()\n",
    "\n",
    "v_test,q_test = test_functions # for velocity, and pressure\n",
    "\n",
    "u_trial,p_trial = trial_functions #for velocity, and pressure\n",
    "\n",
    "def cosine_wave(x, f):\n",
    "    phase_shift = 1 / (2 * f)  # shifts the cosine so it starts at zero\n",
    "    return 0.5 * (np.cos(2 * np.pi * f * (x - phase_shift)) + 1)\n",
    "\n",
    "def ClampPhi(phi_gf, lo=-1.0, hi=1.0):\n",
    "    \"\"\"Clamp phase field values in-place to [lo, hi].\"\"\"\n",
    "    arr = phi_gf.vec.FV().NumPy()\n",
    "    arr[:] = np.minimum(np.maximum(arr, lo), hi)\n",
    "\n"
   ]
  },
  {
   "cell_type": "code",
   "execution_count": 14,
   "metadata": {},
   "outputs": [
    {
     "data": {
      "application/vnd.jupyter.widget-view+json": {
       "model_id": "38ddf50c54e4409a8888db241ec37c47",
       "version_major": 2,
       "version_minor": 0
      },
      "text/plain": [
       "WebGuiWidget(layout=Layout(height='50vh', width='100%'), value={'gui_settings': {}, 'ngsolve_version': '6.2.24…"
      ]
     },
     "metadata": {},
     "output_type": "display_data"
    },
    {
     "data": {
      "text/plain": [
       "BaseWebGuiScene"
      ]
     },
     "execution_count": 14,
     "metadata": {},
     "output_type": "execute_result"
    }
   ],
   "source": [
    "Draw(grad(phi),mesh)"
   ]
  },
  {
   "cell_type": "code",
   "execution_count": 15,
   "metadata": {
    "scrolled": true
   },
   "outputs": [
    {
     "name": "stdout",
     "output_type": "stream",
     "text": [
      "Newton iteration  0\n",
      "err =  0.0008901304934456543\n",
      "Newton iteration  1\n",
      "err =  0.00044506723004295734\n",
      "Newton iteration  2\n",
      "err =  3.6968177153364815e-08\n",
      "Newton iteration  3\n",
      "err =  2.0432874757298944e-14\n",
      "LEVEL SET 0\n",
      "Time to get here -8.069953680038452\n",
      "Newton iteration  0\n",
      "err =  1.23922388484414\n",
      "Newton iteration  1\n",
      "err =  0.6265144351629285\n",
      "Newton iteration  2\n",
      "err =  0.008956125248722822\n",
      "Newton iteration  3\n",
      "err =  1.3831458145535424e-05\n",
      "Newton iteration  4\n",
      "err =  1.6113600315587466e-10\n",
      "Newton iteration  0\n",
      "err =  2.6973491559712786\n",
      "Newton iteration  1\n",
      "err =  1.351146736059308\n",
      "Newton iteration  2\n",
      "err =  0.007457407637922797\n",
      "Newton iteration  3\n",
      "err =  1.1114105851326767e-05\n",
      "Newton iteration  4\n",
      "err =  1.0101723377325652e-10\n",
      "Newton iteration  0\n",
      "err =  4.147757919506622\n",
      "Newton iteration  1\n",
      "err =  2.0752690366572843\n",
      "Newton iteration  2\n",
      "err =  0.007177981253493475\n",
      "Newton iteration  3\n",
      "err =  1.0811969509111685e-05\n",
      "Newton iteration  4\n",
      "err =  9.725990629330317e-11\n",
      "Newton iteration  0\n",
      "err =  5.57219632284782\n",
      "Newton iteration  1\n",
      "err =  2.786926924412376\n",
      "Newton iteration  2\n",
      "err =  0.0072687115412091805\n",
      "Newton iteration  3\n",
      "err =  1.0743006776862602e-05\n",
      "Newton iteration  4\n",
      "err =  9.679050653698151e-11\n",
      "Newton iteration  0\n",
      "err =  6.968545756845327\n",
      "Newton iteration  1\n",
      "err =  3.4847418204805414\n",
      "Newton iteration  2\n",
      "err =  0.007249330593118389\n",
      "Newton iteration  3\n",
      "err =  1.070850527397073e-05\n",
      "Newton iteration  4\n",
      "err =  9.695511757115455e-11\n",
      "Newton iteration  0\n",
      "err =  8.3363294184612\n",
      "Newton iteration  1\n",
      "err =  4.168344122673676\n",
      "Newton iteration  2\n",
      "err =  0.007209743947574723\n",
      "Newton iteration  3\n",
      "err =  1.0669281703836823e-05\n",
      "Newton iteration  4\n",
      "err =  9.73185473717733e-11\n",
      "Newton iteration  0\n",
      "err =  9.701450959011522\n",
      "Newton iteration  1\n",
      "err =  4.85133408171134\n",
      "Newton iteration  2\n",
      "err =  0.008100041897523226\n",
      "Newton iteration  3\n",
      "err =  1.1490164228212103e-05\n",
      "Newton iteration  4\n",
      "err =  1.2440114613917209e-10\n",
      "Newton iteration  0\n",
      "err =  11.021375047982403\n",
      "Newton iteration  1\n",
      "err =  5.511719794185875\n",
      "Newton iteration  2\n",
      "err =  0.009507878327224028\n",
      "Newton iteration  3\n",
      "err =  1.53798063264659e-05\n",
      "Newton iteration  4\n",
      "err =  1.663367385050808e-10\n",
      "Newton iteration  0\n",
      "err =  12.287275407268258\n",
      "Newton iteration  1\n",
      "err =  6.145068224038467\n",
      "Newton iteration  2\n",
      "err =  0.010342556813684052\n",
      "Newton iteration  3\n",
      "err =  1.4297780477259353e-05\n",
      "Newton iteration  4\n",
      "err =  1.4434740415328016e-10\n",
      "Warning: Newton might not converge! Error =  3.5411037708323054e-06\n",
      "Warning: Newton might not converge! Error =  0.0010616059631595128\n",
      "Newton iteration  0\n",
      "err =  13.495422861085238\n",
      "Newton iteration  1\n",
      "err =  6.749504380802272\n",
      "Newton iteration  2\n",
      "err =  0.011903081432547454\n",
      "Newton iteration  3\n",
      "err =  1.3345988161938816e-05\n",
      "Newton iteration  4\n",
      "err =  1.2678773082465534e-10\n",
      "LEVEL SET 500\n",
      "Time to get here -6754.351293563843\n",
      "Warning: Newton might not converge! Error =  1.1568162156205666e-05\n",
      "Warning: Newton might not converge! Error =  7.194810193496081e-05\n",
      "Warning: Newton might not converge! Error =  1.3226544595208668e+16\n",
      "Warning: Newton might not converge! Error =  219.65013648669907\n",
      "Warning: Newton might not converge! Error =  1.9159265237630997e+56\n",
      "Warning: Newton might not converge! Error =  13.098567864546554\n"
     ]
    },
    {
     "ename": "KeyboardInterrupt",
     "evalue": "",
     "output_type": "error",
     "traceback": [
      "\u001b[31m---------------------------------------------------------------------------\u001b[39m",
      "\u001b[31mKeyboardInterrupt\u001b[39m                         Traceback (most recent call last)",
      "\u001b[36mCell\u001b[39m\u001b[36m \u001b[39m\u001b[32mIn[15]\u001b[39m\u001b[32m, line 89\u001b[39m\n\u001b[32m     86\u001b[39m u_p.components[\u001b[32m0\u001b[39m].Set(u_bc, definedon=mesh.Boundaries(\u001b[33m\"\u001b[39m\u001b[33mLiq_Inlet|Gas_Inlet\u001b[39m\u001b[33m\"\u001b[39m))\n\u001b[32m     87\u001b[39m damp = \u001b[32m0.5\u001b[39m\n\u001b[32m---> \u001b[39m\u001b[32m89\u001b[39m \u001b[43mNewton\u001b[49m\u001b[43m(\u001b[49m\u001b[43mA_ns\u001b[49m\u001b[43m,\u001b[49m\u001b[43m \u001b[49m\u001b[43mu_p\u001b[49m\u001b[43m,\u001b[49m\n\u001b[32m     90\u001b[39m \u001b[43m       \u001b[49m\u001b[43mfreedofs\u001b[49m\u001b[43m=\u001b[49m\u001b[43mX\u001b[49m\u001b[43m.\u001b[49m\u001b[43mFreeDofs\u001b[49m\u001b[43m(\u001b[49m\u001b[43m)\u001b[49m\u001b[43m,\u001b[49m\n\u001b[32m     91\u001b[39m \u001b[43m       \u001b[49m\u001b[43mmaxit\u001b[49m\u001b[43m=\u001b[49m\u001b[32;43m12\u001b[39;49m\u001b[43m,\u001b[49m\u001b[43m \u001b[49m\u001b[43mmaxerr\u001b[49m\u001b[43m=\u001b[49m\u001b[32;43m1e-8\u001b[39;49m\u001b[43m,\u001b[49m\n\u001b[32m     92\u001b[39m \u001b[43m       \u001b[49m\u001b[43minverse\u001b[49m\u001b[43m=\u001b[49m\u001b[33;43m\"\u001b[39;49m\u001b[33;43mpardiso\u001b[39;49m\u001b[33;43m\"\u001b[39;49m\u001b[43m,\u001b[49m\u001b[43m \u001b[49m\u001b[43mdampfactor\u001b[49m\u001b[43m=\u001b[49m\u001b[43mdamp\u001b[49m\u001b[43m,\u001b[49m\n\u001b[32m     93\u001b[39m \u001b[43m       \u001b[49m\u001b[43mprinting\u001b[49m\u001b[43m=\u001b[49m\u001b[38;5;28;43;01mTrue\u001b[39;49;00m\u001b[43m \u001b[49m\u001b[38;5;28;43;01mif\u001b[39;49;00m\u001b[43m \u001b[49m\u001b[43mstep\u001b[49m\u001b[43m \u001b[49m\u001b[43m%\u001b[49m\u001b[43m \u001b[49m\u001b[32;43m50\u001b[39;49m\u001b[43m \u001b[49m\u001b[43m==\u001b[49m\u001b[43m \u001b[49m\u001b[32;43m0\u001b[39;49m\u001b[43m \u001b[49m\u001b[38;5;28;43;01melse\u001b[39;49;00m\u001b[43m \u001b[49m\u001b[38;5;28;43;01mFalse\u001b[39;49;00m\u001b[43m \u001b[49m\u001b[43m)\u001b[49m\n\u001b[32m     96\u001b[39m u = u_p.components[\u001b[32m0\u001b[39m]\n\u001b[32m     99\u001b[39m vel_cf = u                                \u001b[38;5;66;03m# use solved velocity field\u001b[39;00m\n",
      "\u001b[36mFile \u001b[39m\u001b[32m~/NGSolve/NGSolve_Venv/lib/python3.11/site-packages/ngsolve/nonlinearsolvers.py:147\u001b[39m, in \u001b[36mNewton\u001b[39m\u001b[34m(a, u, freedofs, maxit, maxerr, inverse, dirichletvalues, dampfactor, printing, callback)\u001b[39m\n\u001b[32m    145\u001b[39m \u001b[38;5;28;01mif\u001b[39;00m dirichletvalues \u001b[38;5;129;01mis\u001b[39;00m \u001b[38;5;129;01mnot\u001b[39;00m \u001b[38;5;28;01mNone\u001b[39;00m:\n\u001b[32m    146\u001b[39m     solver.SetDirichlet(dirichletvalues)\n\u001b[32m--> \u001b[39m\u001b[32m147\u001b[39m \u001b[38;5;28;01mreturn\u001b[39;00m \u001b[43msolver\u001b[49m\u001b[43m.\u001b[49m\u001b[43mSolve\u001b[49m\u001b[43m(\u001b[49m\u001b[43mmaxit\u001b[49m\u001b[43m=\u001b[49m\u001b[43mmaxit\u001b[49m\u001b[43m,\u001b[49m\u001b[43m \u001b[49m\u001b[43mmaxerr\u001b[49m\u001b[43m=\u001b[49m\u001b[43mmaxerr\u001b[49m\u001b[43m,\u001b[49m\n\u001b[32m    148\u001b[39m \u001b[43m                    \u001b[49m\u001b[43mdampfactor\u001b[49m\u001b[43m=\u001b[49m\u001b[43mdampfactor\u001b[49m\u001b[43m,\u001b[49m\n\u001b[32m    149\u001b[39m \u001b[43m                    \u001b[49m\u001b[43mprinting\u001b[49m\u001b[43m=\u001b[49m\u001b[43mprinting\u001b[49m\u001b[43m,\u001b[49m\n\u001b[32m    150\u001b[39m \u001b[43m                    \u001b[49m\u001b[43mcallback\u001b[49m\u001b[43m=\u001b[49m\u001b[43mcallback\u001b[49m\u001b[43m,\u001b[49m\n\u001b[32m    151\u001b[39m \u001b[43m                    \u001b[49m\u001b[43mlinesearch\u001b[49m\u001b[43m=\u001b[49m\u001b[38;5;28;43;01mFalse\u001b[39;49;00m\u001b[43m,\u001b[49m\n\u001b[32m    152\u001b[39m \u001b[43m                    \u001b[49m\u001b[43mprintenergy\u001b[49m\u001b[43m=\u001b[49m\u001b[38;5;28;43;01mFalse\u001b[39;49;00m\u001b[43m)\u001b[49m\n",
      "\u001b[36mFile \u001b[39m\u001b[32m~/NGSolve/NGSolve_Venv/lib/python3.11/site-packages/netgen/__init__.py:111\u001b[39m, in \u001b[36mTimeFunction.<locals>.retfunc\u001b[39m\u001b[34m(*args, **kwargs)\u001b[39m\n\u001b[32m    109\u001b[39m \u001b[38;5;28;01mdef\u001b[39;00m\u001b[38;5;250m \u001b[39m\u001b[34mretfunc\u001b[39m(*args,**kwargs):\n\u001b[32m    110\u001b[39m     \u001b[38;5;28;01mwith\u001b[39;00m timer:\n\u001b[32m--> \u001b[39m\u001b[32m111\u001b[39m         ret = \u001b[43mfunc\u001b[49m\u001b[43m(\u001b[49m\u001b[43m*\u001b[49m\u001b[43margs\u001b[49m\u001b[43m,\u001b[49m\u001b[43m \u001b[49m\u001b[43m*\u001b[49m\u001b[43m*\u001b[49m\u001b[43mkwargs\u001b[49m\u001b[43m)\u001b[49m\n\u001b[32m    112\u001b[39m     \u001b[38;5;28;01mreturn\u001b[39;00m ret\n",
      "\u001b[36mFile \u001b[39m\u001b[32m~/NGSolve/NGSolve_Venv/lib/python3.11/site-packages/ngsolve/nonlinearsolvers.py:42\u001b[39m, in \u001b[36mNewtonSolver.Solve\u001b[39m\u001b[34m(self, maxit, maxerr, dampfactor, printing, callback, linesearch, printenergy, print_wrong_direction)\u001b[39m\n\u001b[32m     39\u001b[39m a.AssembleLinearization(u.vec)\n\u001b[32m     40\u001b[39m a.Apply(u.vec, r)\n\u001b[32m---> \u001b[39m\u001b[32m42\u001b[39m \u001b[38;5;28;43mself\u001b[39;49m\u001b[43m.\u001b[49m\u001b[43m_UpdateInverse\u001b[49m\u001b[43m(\u001b[49m\u001b[43m)\u001b[49m\n\u001b[32m     43\u001b[39m \u001b[38;5;28;01mif\u001b[39;00m \u001b[38;5;28mself\u001b[39m.rhs \u001b[38;5;129;01mis\u001b[39;00m \u001b[38;5;129;01mnot\u001b[39;00m \u001b[38;5;28;01mNone\u001b[39;00m:\n\u001b[32m     44\u001b[39m     r.data -= \u001b[38;5;28mself\u001b[39m.rhs.vec\n",
      "\u001b[36mFile \u001b[39m\u001b[32m~/NGSolve/NGSolve_Venv/lib/python3.11/site-packages/ngsolve/nonlinearsolvers.py:103\u001b[39m, in \u001b[36mNewtonSolver._UpdateInverse\u001b[39m\u001b[34m(self)\u001b[39m\n\u001b[32m    101\u001b[39m     \u001b[38;5;28mself\u001b[39m.inv.Update()\n\u001b[32m    102\u001b[39m \u001b[38;5;28;01melse\u001b[39;00m:\n\u001b[32m--> \u001b[39m\u001b[32m103\u001b[39m     \u001b[38;5;28mself\u001b[39m.inv = \u001b[38;5;28;43mself\u001b[39;49m\u001b[43m.\u001b[49m\u001b[43ma\u001b[49m\u001b[43m.\u001b[49m\u001b[43mmat\u001b[49m\u001b[43m.\u001b[49m\u001b[43mInverse\u001b[49m\u001b[43m(\u001b[49m\u001b[38;5;28;43mself\u001b[39;49m\u001b[43m.\u001b[49m\u001b[43mfreedofs\u001b[49m\u001b[43m,\u001b[49m\n\u001b[32m    104\u001b[39m \u001b[43m                                  \u001b[49m\u001b[43minverse\u001b[49m\u001b[43m=\u001b[49m\u001b[38;5;28;43mself\u001b[39;49m\u001b[43m.\u001b[49m\u001b[43minverse\u001b[49m\u001b[43m)\u001b[49m\n",
      "\u001b[31mKeyboardInterrupt\u001b[39m: "
     ]
    }
   ],
   "source": [
    "\n",
    "dt = CoefficientFunction(1e-4)\n",
    "dt_value = 1e-4\n",
    "\n",
    "h = specialcf.mesh_size\n",
    "t_curr= 0\n",
    "\n",
    "Umax_target = 0.42\n",
    "step, steps = 0, 2000\n",
    "spinup = 300\n",
    "start_time = time.time()\n",
    "freq = 50 #hz\n",
    "\n",
    "\n",
    "#arr = np.load(\"Navier_Stokes_GFU.npy\")   \n",
    "#u_p_old.vec.FV().NumPy()[:] = arr           # ← in-place copy\n",
    "#u_p.vec.FV().NumPy()[:] = arr           # ← in-place copy\n",
    "\n",
    "#phi_arr = np.load(\"Phi_Thin.npy\")   \n",
    "#phi.vec.FV().NumPy()[:] = phi_arr           # ← in-place copy\n",
    "\n",
    "\n",
    "# Your main loop with VOF update added:\n",
    "u_p.components[1].vec[:] = 0\n",
    "\n",
    "with TaskManager():\n",
    "    while step < steps:\n",
    "        # ------------------------------------------------------------------\n",
    "        # 1. UPDATE MATERIAL PROPERTIES\n",
    "        # ------------------------------------------------------------------\n",
    "\n",
    "    \n",
    "        t_curr += dt_value\n",
    "\n",
    "        S = ramp_scale(step,50,\"tanh\")\n",
    "        Sg = ramp_scale(step,50,\"tanh\")\n",
    "        \n",
    "        g = CoefficientFunction((0.0, Sg*-9.807))   # gravitational acceleration\n",
    "        \n",
    "        #jump = cosine_wave(t_curr,freq) * Umax_target + 1e-6\n",
    "\n",
    "        u_max = S * Umax_target #+ jump\n",
    "        \n",
    "        rho_smoothed = UpdateMaterialParameters(phi, rho_l, rho_g,0.3)\n",
    "        mu_smoothed = UpdateMaterialParameters(phi, mu_l, mu_g,0.3)\n",
    "\n",
    "        # ------------------------------------------------------------------\n",
    "        # 2. NAVIER–STOKES SOLVE (unchanged)\n",
    "        # -----------------------------------------------------------------\n",
    "\n",
    "\n",
    "        #COMPUTE PARABOLA FOR LIQ IN\n",
    "        xmin = 0.0 + 5e-5\n",
    "        xmax = 0.001\n",
    "        \n",
    "        xhat = (x - xmin) / (xmax - xmin)\n",
    "\n",
    "        parabola = IfPos(x - xmin,\n",
    "                 IfPos(xmax - x, 4 * xhat * (1 - xhat), 0),\n",
    "                 0)\n",
    "        \n",
    "        #COMPUTE PARABOLA FOR GAS IN\n",
    "        \n",
    "        xmin_g = 0.007\n",
    "        xmax_g = 0.010 - 5e-5\n",
    "        \n",
    "        xhat_g = (x - xmin_g) / (xmax_g - xmin_g)\n",
    "        \n",
    "        parabola_g = IfPos(x - xmin_g,\n",
    "                 IfPos(xmax_g - x, 4 * xhat_g * (1 - xhat_g), 0),\n",
    "                 0)\n",
    "        \n",
    "        uin = CoefficientFunction((0, -1*u_max*parabola))\n",
    "        uin_g = CoefficientFunction((0, 0.9*Sg*parabola_g))\n",
    "\n",
    "        u_bc = CF((\n",
    "            IfPos(0.002 - x, uin[0], uin_g[0]),  # x-component (both 0 in your case)\n",
    "            IfPos(0.002 - x, uin[1], uin_g[1])   # y-component\n",
    "        ))\n",
    "                \n",
    "        \n",
    "        A_ns = BuildNavierStokes(X, dt, v_test, q_test, u_trial, p_trial,\n",
    "                                u_p_old, rho_smoothed, mu_smoothed,g)\n",
    "        \n",
    "        #print(f\"[Step {step}]\")\n",
    "\n",
    "        u_p.components[0].Set(u_bc, definedon=mesh.Boundaries(\"Liq_Inlet|Gas_Inlet\"))\n",
    "        damp = 0.5\n",
    "        \n",
    "        Newton(A_ns, u_p,\n",
    "               freedofs=X.FreeDofs(),\n",
    "               maxit=12, maxerr=1e-8,\n",
    "               inverse=\"pardiso\", dampfactor=damp,\n",
    "               printing=True if step % 50 == 0 else False )\n",
    "\n",
    "        \n",
    "        u = u_p.components[0]\n",
    "\n",
    " \n",
    "        vel_cf = u                                # use solved velocity field\n",
    "\n",
    "        if step > spinup:\n",
    "            \n",
    "\n",
    "            A_ac = BuildAllenCahn(AC_space  = L,\n",
    "                                  dt        = dt_value,\n",
    "                                  vel_cf    = vel_cf,\n",
    "                                  tau       = 1,\n",
    "                                  phi_old   = phi_old,\n",
    "                                  eps       = epsilon,)            \n",
    "            Newton(A_ac, phi,\n",
    "                   freedofs   = L.FreeDofs(),\n",
    "                   maxit      = 12,\n",
    "                   maxerr     = 1e-8,\n",
    "                   inverse    = \"pardiso\",\n",
    "                   dampfactor = 0.1,\n",
    "                   printing   = False)\n",
    "\n",
    "\n",
    "            ClampPhi(phi, lo=-1.0, hi=1.0)\n",
    "            # roll phase field forward\n",
    "            phi_old.vec.data = phi.vec.data\n",
    "            \n",
    "        if  step % 500 == 0 :\n",
    "            print(f'LEVEL SET {step}')\n",
    "            #DrawDC(phi_old,-1,1,mesh)\n",
    "            #Draw(u_p.components[0][1],mesh)\n",
    "           # Draw(u_p.components[1],mesh)\n",
    "            #DrawDC(phi_old,-1,1,mesh)\n",
    "            #Draw(phi_old,mesh)\n",
    "            print(f\"Time to get here {start_time - time.time()}\")\n",
    "\n",
    "            \n",
    "        u_p_old.vec.data = u_p.vec.data\n",
    "        \n",
    "    \n",
    "        step += 1\n",
    "        #print(f\"Starting  Step {step+1}\")"
   ]
  },
  {
   "cell_type": "code",
   "execution_count": 16,
   "metadata": {},
   "outputs": [
    {
     "data": {
      "application/vnd.jupyter.widget-view+json": {
       "model_id": "c69993b95a544aad9389239304318957",
       "version_major": 2,
       "version_minor": 0
      },
      "text/plain": [
       "WebGuiWidget(layout=Layout(height='50vh', width='100%'), value={'gui_settings': {}, 'ngsolve_version': '6.2.24…"
      ]
     },
     "metadata": {},
     "output_type": "display_data"
    },
    {
     "data": {
      "text/plain": [
       "BaseWebGuiScene"
      ]
     },
     "execution_count": 16,
     "metadata": {},
     "output_type": "execute_result"
    }
   ],
   "source": [
    "Draw(phi,mesh)"
   ]
  },
  {
   "cell_type": "code",
   "execution_count": 17,
   "metadata": {},
   "outputs": [
    {
     "name": "stderr",
     "output_type": "stream",
     "text": [
      "/home/inoceramusgigas/NGSolve/NGSolve_Venv/lib/python3.11/site-packages/netgen/webgui.py:17: RuntimeWarning: overflow encountered in cast\n",
      "  values = np.array(data.flatten(), dtype=dtype)\n"
     ]
    },
    {
     "data": {
      "application/vnd.jupyter.widget-view+json": {
       "model_id": "c947aade997947e3ab134d4940d05233",
       "version_major": 2,
       "version_minor": 0
      },
      "text/plain": [
       "WebGuiWidget(layout=Layout(height='50vh', width='100%'), value={'gui_settings': {}, 'ngsolve_version': '6.2.24…"
      ]
     },
     "metadata": {},
     "output_type": "display_data"
    },
    {
     "data": {
      "text/plain": [
       "BaseWebGuiScene"
      ]
     },
     "execution_count": 17,
     "metadata": {},
     "output_type": "execute_result"
    }
   ],
   "source": [
    "Draw(u_p_old.components[0],mesh)"
   ]
  },
  {
   "cell_type": "code",
   "execution_count": null,
   "metadata": {},
   "outputs": [],
   "source": [
    "np.save(\"Phi_Thin.npy\", phi_old.vec.FV().NumPy())\n",
    "np.save(\"Matching_NS.npy\",u_p_old.vec.FV().NumPy())"
   ]
  }
 ],
 "metadata": {
  "kernelspec": {
   "display_name": "Python 3 (ipykernel)",
   "language": "python",
   "name": "python3"
  },
  "language_info": {
   "codemirror_mode": {
    "name": "ipython",
    "version": 3
   },
   "file_extension": ".py",
   "mimetype": "text/x-python",
   "name": "python",
   "nbconvert_exporter": "python",
   "pygments_lexer": "ipython3",
   "version": "3.11.2"
  }
 },
 "nbformat": 4,
 "nbformat_minor": 4
}
