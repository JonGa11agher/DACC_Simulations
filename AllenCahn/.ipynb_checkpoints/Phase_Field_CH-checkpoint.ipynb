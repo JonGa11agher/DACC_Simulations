{
 "cells": [
  {
   "cell_type": "markdown",
   "metadata": {},
   "source": [
    "## Mesh"
   ]
  },
  {
   "cell_type": "code",
   "execution_count": 1,
   "metadata": {},
   "outputs": [
    {
     "name": "stdout",
     "output_type": "stream",
     "text": [
      "importing ngsxfem-2.1.2405\n"
     ]
    }
   ],
   "source": [
    "from ngsolve import *\n",
    "from netgen.occ import *\n",
    "from netgen.geom2d import SplineGeometry\n",
    "from ngsolve.internal import *\n",
    "from xfem import *\n",
    "import numpy as np\n",
    "import ipywidgets\n",
    "from ngsolve.solvers import *\n",
    "import gc\n",
    "def MakeGeometry():\n",
    "    geo = SplineGeometry()\n",
    "\n",
    "    # Define Points:|\n",
    "    p0 = geo.AppendPoint(0.0,     0.0)\n",
    "    p0_inset = geo.AppendPoint(0.00005,0.0)\n",
    "    p1 = geo.AppendPoint(0.001,   0.0)\n",
    "    p1b = geo.AppendPoint(0.002,  0.0)\n",
    "    p2 = geo.AppendPoint(0.007, 0.0)\n",
    "    p3_inset = geo.AppendPoint(0.00995,0.0)\n",
    "    p3 = geo.AppendPoint(0.01, 0.0)\n",
    "    \n",
    "    p4 = geo.AppendPoint(0.01, 0.10)\n",
    "    p5 = geo.AppendPoint(0.008, 0.10)\n",
    "    p1b_top = geo.AppendPoint(0.002,  0.10)\n",
    "    \n",
    "    p6 = geo.AppendPoint(0.001,   0.10)\n",
    "    p7 = geo.AppendPoint(0.00,   0.10)\n",
    "    p7_inset = geo.AppendPoint(0.00005,0.10)\n",
    "\n",
    "    # Bottom edges\n",
    " \n",
    "    geo.Append([\"line\", p0, p1],     leftdomain=1, rightdomain=0, bc=\"Liq_Outlet_a\")\n",
    "    geo.Append([\"line\", p1, p1b],    leftdomain=2, rightdomain=0, bc=\"Liq_Outlet_b\")  # new domain\n",
    "    geo.Append([\"line\", p1b, p2],    leftdomain=3, rightdomain=0, bc=\"bottom\")\n",
    "    geo.Append([\"line\", p2, p3_inset],     leftdomain=4, rightdomain=0, bc=\"Gas_Inlet\")\n",
    "    geo.Append([\"line\",p3_inset,p3], leftdomain=4 ,rightdomain=0, bc = \"Gas_Buffer\")\n",
    "    \n",
    "    # Right edge\n",
    "    geo.Append([\"line\", p3, p4],     leftdomain=4, rightdomain=0, bc=\"right\")\n",
    "\n",
    "    # Top edges\n",
    "    geo.Append([\"line\", p4, p5],     leftdomain=4, rightdomain=0, bc=\"Gas_Outlet\")\n",
    "    geo.Append([\"line\", p5, p1b_top],leftdomain=3, rightdomain=0, bc=\"top\")\n",
    "    geo.Append([\"line\", p1b_top, p6],leftdomain=2, rightdomain=0, bc=\"top\")     # new domain\n",
    "    geo.Append([\"line\", p6, p7_inset],     leftdomain=1, rightdomain=0, bc=\"Liq_Inlet\")\n",
    "    geo.Append([\"line\", p7_inset,p7],     leftdomain=1, rightdomain=0, bc=\"Liq_Buffer\")\n",
    "\n",
    "    # Left edge\n",
    "    geo.Append([\"line\", p7, p0],     leftdomain=1, rightdomain=0, bc=\"left\")\n",
    "\n",
    "    # Internal vertical separators\n",
    "    interface = geo.Append([\"line\", p1, p6],       leftdomain=1, rightdomain=2)  # \n",
    "    geo.Append([\"line\", p1b, p1b_top], leftdomain=2, rightdomain=3)  # \n",
    "    geo.Append([\"line\", p2, p5],       leftdomain=3, rightdomain=4)  #\n",
    "\n",
    "\n",
    "\n",
    "    # Set mesh size per domain\n",
    "\n",
    "    geo.SetDomainMaxH(1, 0.0001)\n",
    "    geo.SetDomainMaxH(2, 0.0001)  # new domain (optional: adjust mesh size)\n",
    "    geo.SetDomainMaxH(3, 0.0007)\n",
    "    geo.SetDomainMaxH(4, 0.0005)\n",
    "\n",
    "    return geo.GenerateMesh()\n",
    "\n",
    "\n",
    "mesh =  Mesh(MakeGeometry())"
   ]
  },
  {
   "cell_type": "markdown",
   "metadata": {},
   "source": [
    "## Setup"
   ]
  },
  {
   "cell_type": "code",
   "execution_count": 2,
   "metadata": {},
   "outputs": [
    {
     "data": {
      "application/vnd.jupyter.widget-view+json": {
       "model_id": "5438f37bc5244e41b19f5bd1a1477c54",
       "version_major": 2,
       "version_minor": 0
      },
      "text/plain": [
       "WebGuiWidget(layout=Layout(height='50vh', width='100%'), value={'gui_settings': {}, 'ngsolve_version': '6.2.24…"
      ]
     },
     "metadata": {},
     "output_type": "display_data"
    },
    {
     "data": {
      "text/plain": [
       "BaseWebGuiScene"
      ]
     },
     "execution_count": 2,
     "metadata": {},
     "output_type": "execute_result"
    }
   ],
   "source": [
    "Draw(mesh)"
   ]
  },
  {
   "cell_type": "code",
   "execution_count": 3,
   "metadata": {},
   "outputs": [],
   "source": [
    "# =============================================================================\n",
    "# FINITE ELEMENT SPACES\n",
    "# =============================================================================\n",
    "\n",
    "# Navier-Stokes spaces\n",
    "V = VectorH1(mesh, order=2, dirichlet=\"Liq_Inlet|Gas_Inlet|top|bottom|left|right|Liq_Buffer|Gas_Buffer\") #dirichlety = \"top|bottom\"\n",
    "Q = H1(mesh, order=1,dirichlet=\"\")  # pressure constraints\n",
    "X = V*Q  # Mixed velocity-pressure space\n",
    "\n",
    "# AllenCahn Space\n",
    "L = H1(mesh, order=2,dirichlet=\"left|Liq_Inlet|Gas_Inlet|Gas_Outlet|Gas_Buffer|top\") \n",
    "\n",
    "# GRID FUNCTIONS\n",
    "# =============================================================================\n",
    "\n",
    "# Navier-Stokes solutions\n",
    "u_p = GridFunction(X)      # Current [u, p] solution\n",
    "u_p_old = GridFunction(X)  # Previous time step [u, p]\n",
    "\n",
    "# Phase field solutions  \n",
    "phi = GridFunction(L)      # Current [phi, mu] solution\n",
    "phi_old = GridFunction(L)  # Previous time step [phi, mu]\n",
    "# Boundary condition helpers|\n",
    "u_D = GridFunction(V)  # Velocity BC helper\n",
    "p_D = GridFunction(Q)  # Pressure BC helper\n"
   ]
  },
  {
   "cell_type": "code",
   "execution_count": 4,
   "metadata": {},
   "outputs": [],
   "source": [
    "# =============================================================================\n",
    "# INITIALIZATION\n",
    "# =============================================================================\n",
    "eps = 0.0001\n",
    "d = x - 0.001         # signed distance\n",
    "s = d / (2 * eps)      # scaled distance\n",
    "phi_init = (1 - exp(-2*s)) / (1 + exp(-2*s))\n",
    "\n",
    "phi.Set(phi_init)\n",
    "phi_old.Set(phi_init)\n",
    "\n",
    "# Initialize Navier-Stokes (can be zero or small perturbation)\n",
    "u_p.components[0].Set(CoefficientFunction((0.0, 0.0)))  # Initial velocity\n",
    "u_p.components[1].Set(0.0)             # Initial pressure\n",
    "u_p_old.vec.data = u_p.vec"
   ]
  },
  {
   "cell_type": "code",
   "execution_count": 5,
   "metadata": {},
   "outputs": [
    {
     "data": {
      "text/plain": [
       "239807"
      ]
     },
     "execution_count": 5,
     "metadata": {},
     "output_type": "execute_result"
    }
   ],
   "source": [
    "X.ndof"
   ]
  },
  {
   "cell_type": "code",
   "execution_count": 6,
   "metadata": {},
   "outputs": [],
   "source": [
    "mu_l = 0.001 #Pascal*seconds (liquid viscosity)\n",
    "mu_g = 1.8e-5 #Pa*s (gas viscosity)\n",
    "rho_l = 997.0 #Kg/m3 (liquid density)\n",
    "rho_g = 1.2 #Kg/m3 (gas density)\n",
    "surface_tension = 0.072 #Surface tension force N/m"
   ]
  },
  {
   "cell_type": "markdown",
   "metadata": {},
   "source": [
    "## Solver"
   ]
  },
  {
   "cell_type": "code",
   "execution_count": 7,
   "metadata": {},
   "outputs": [],
   "source": [
    "def BuildNavierStokes(X, dt,\n",
    "                      v_test, q_test,\n",
    "                      u_trial, p_trial,\n",
    "                      u_p_old,\n",
    "                      rho, mu,g):        #\n",
    "\n",
    "    \"\"\"\n",
    "    Builds the weak-form Navier–Stokes residual suitable for Newton,\n",
    "    including a weak velocity BC on `inlet_tag` if `gas_inlet_cf` is given.\n",
    "    \"\"\"\n",
    "\n",
    "    u_old = u_p_old.components[0]\n",
    "\n",
    "    h = specialcf.mesh_size                 # mesh size function\n",
    "\n",
    "    a_ns = BilinearForm(X)\n",
    "\n",
    "    # Time derivative\n",
    "    a_ns += (rho / dt) * (u_trial - u_old) * v_test * dx\n",
    "\n",
    "    # Convection\n",
    "    a_ns += rho * InnerProduct(grad(u_trial) * u_trial, v_test) * dx\n",
    "\n",
    "    # Viscous term\n",
    "    a_ns += mu * InnerProduct(Sym(grad(u_trial)), Sym(grad(v_test))) * dx\n",
    "\n",
    "    # Pressure terms\n",
    "    a_ns += (-p_trial * div(v_test)) * dx\n",
    "    a_ns += ( div(u_trial) * q_test ) * dx\n",
    "\n",
    "    # Gravity\n",
    "    a_ns += -(rho * g * v_test) * dx\n",
    "\n",
    "    return a_ns\n"
   ]
  },
  {
   "cell_type": "code",
   "execution_count": 8,
   "metadata": {},
   "outputs": [
    {
     "data": {
      "application/vnd.jupyter.widget-view+json": {
       "model_id": "635025bd835747b38f2278c0223134ef",
       "version_major": 2,
       "version_minor": 0
      },
      "text/plain": [
       "WebGuiWidget(layout=Layout(height='50vh', width='100%'), value={'gui_settings': {}, 'ngsolve_version': '6.2.24…"
      ]
     },
     "metadata": {},
     "output_type": "display_data"
    },
    {
     "data": {
      "text/plain": [
       "BaseWebGuiScene"
      ]
     },
     "execution_count": 8,
     "metadata": {},
     "output_type": "execute_result"
    }
   ],
   "source": [
    "Draw(phi,mesh)"
   ]
  },
  {
   "cell_type": "code",
   "execution_count": 9,
   "metadata": {},
   "outputs": [],
   "source": [
    "def UpdateMaterialParameters(phi, rho_l, rho_g, dx):\n",
    "    \"\"\"Get smoothed material properties using Heaviside function\"\"\"\n",
    "    eps = 3 * dx\n",
    "    H = IfPos(phi + eps, \n",
    "              IfPos(eps - phi,\n",
    "                    0.5 * (1 + phi/eps + sin(pi * phi/eps) / pi),\n",
    "                    1.0),\n",
    "              0.0)\n",
    "    return rho_l + (rho_g - rho_l) * H"
   ]
  },
  {
   "cell_type": "code",
   "execution_count": 10,
   "metadata": {},
   "outputs": [],
   "source": [
    "# -------------------------------------------------------------\n",
    "ramp_steps  = 30               # number of ramp-up steps\n",
    "ramp_type   = \"tanh\"           # or \"linear\", \"tanh\"\n",
    "# -------------------------------------------------------------\n",
    "\n",
    "def ramp_scale(step,ramp_steps,ramp_type):\n",
    "    if step >= ramp_steps:\n",
    "        return 1.0\n",
    "    if ramp_type == \"linear\":\n",
    "        return step / ramp_steps\n",
    "    if ramp_type == \"halfcos\":\n",
    "        from math import cos, pi\n",
    "        return 0.5*(1 - cos(pi * step / ramp_steps))\n",
    "    if ramp_type == \"tanh\":\n",
    "        from math import tanh\n",
    "        delta = 0.15 * ramp_steps    # smoothness width in step units\n",
    "        return 0.5 * (1 + tanh((step - 0.5 * ramp_steps) / delta))\n",
    "    raise ValueError(\"Unknown ramp type\")\n"
   ]
  },
  {
   "cell_type": "code",
   "execution_count": 11,
   "metadata": {
    "scrolled": true
   },
   "outputs": [
    {
     "name": "stdout",
     "output_type": "stream",
     "text": [
      "Logical CPUs (threads): 16\n"
     ]
    }
   ],
   "source": [
    "import time\n",
    "from ngsolve import TaskManager, SetNumThreads\n",
    "SetNumThreads(18)\n",
    "import multiprocessing\n",
    "print(\"Logical CPUs (threads):\", multiprocessing.cpu_count())\n"
   ]
  },
  {
   "cell_type": "code",
   "execution_count": 12,
   "metadata": {},
   "outputs": [],
   "source": [
    "def BuildAllenCahn(AC_space, dt, phi_old, vel_cf, tau, eps,\n",
    "                   inflow_penalty=1.0, inlet_group=\"Liq_Inlet\",phi_inlet_cf = phi_init):\n",
    "    phi, w = AC_space.TnT()\n",
    "    a_ac = BilinearForm(AC_space)\n",
    "\n",
    "    # Base terms\n",
    "    a_ac += ((phi - phi_old) / dt) * w * dx\n",
    "    a_ac += InnerProduct(vel_cf, grad(phi)) * w * dx\n",
    "    a_ac += (1.0 / tau) * (phi - phi**3) * w * dx\n",
    "    a_ac += (eps**2 / tau) * InnerProduct(grad(phi), grad(w)) * dx\n",
    "\n",
    "    # SUPG (volume only)\n",
    "    hK   = specialcf.mesh_size\n",
    "    umag = Norm(vel_cf)\n",
    "    tau_supg = 1.0 / sqrt( (2.0/dt)**2 + (2.0*umag/hK)**2 )\n",
    "    R_no_diff = ((phi - phi_old)/dt\n",
    "                 + InnerProduct(vel_cf, grad(phi))\n",
    "                 + (1.0/tau)*(phi - phi**3))\n",
    "    a_ac += tau_supg * InnerProduct(vel_cf, grad(w)) * R_no_diff * dx\n",
    "\n",
    "    # Inflow upwind penalty (your phi_inlet_cf is assumed defined)\n",
    "    mesh = AC_space.mesh\n",
    "    n  = specialcf.normal(mesh.Boundaries(inlet_group))\n",
    "    un = InnerProduct(vel_cf, n)           # >0 outflow, <0 inflow\n",
    "    inflow = IfPos(-un, -un, 0)            # max(0, -u·n)\n",
    "\n",
    "    a_ac += inflow_penalty * inflow * (phi - phi_inlet_cf) * w * ds(inlet_group)\n",
    "\n",
    "\n",
    "    return a_ac\n",
    "\n"
   ]
  },
  {
   "cell_type": "code",
   "execution_count": 13,
   "metadata": {},
   "outputs": [],
   "source": [
    "    #Trial n Test\n",
    "\n",
    "test_functions = X.TestFunction()\n",
    "\n",
    "trial_functions = X.TrialFunction()\n",
    "\n",
    "v_test,q_test = test_functions # for velocity, and pressure\n",
    "\n",
    "u_trial,p_trial = trial_functions #for velocity, and pressure\n",
    "\n",
    "def cosine_wave(x, f):\n",
    "    phase_shift = 1 / (2 * f)  # shifts the cosine so it starts at zero\n",
    "    return 0.5 * (np.cos(2 * np.pi * f * (x - phase_shift)) + 1)\n",
    "\n",
    "def ClampPhi(phi_gf, lo=-1.0, hi=1.0):\n",
    "    \"\"\"Clamp phase field values in-place to [lo, hi].\"\"\"\n",
    "    arr = phi_gf.vec.FV().NumPy()\n",
    "    arr[:] = np.minimum(np.maximum(arr, lo), hi)\n",
    "\n"
   ]
  },
  {
   "cell_type": "code",
   "execution_count": 14,
   "metadata": {},
   "outputs": [
    {
     "data": {
      "application/vnd.jupyter.widget-view+json": {
       "model_id": "015cd484e2a04972a3d774801882fc2d",
       "version_major": 2,
       "version_minor": 0
      },
      "text/plain": [
       "WebGuiWidget(layout=Layout(height='50vh', width='100%'), value={'gui_settings': {}, 'ngsolve_version': '6.2.24…"
      ]
     },
     "metadata": {},
     "output_type": "display_data"
    },
    {
     "data": {
      "text/plain": [
       "BaseWebGuiScene"
      ]
     },
     "execution_count": 14,
     "metadata": {},
     "output_type": "execute_result"
    }
   ],
   "source": [
    "Draw(grad(phi),mesh)"
   ]
  },
  {
   "cell_type": "code",
   "execution_count": 15,
   "metadata": {
    "scrolled": true
   },
   "outputs": [
    {
     "name": "stdout",
     "output_type": "stream",
     "text": [
      "LEVEL SET 0\n"
     ]
    },
    {
     "data": {
      "application/vnd.jupyter.widget-view+json": {
       "model_id": "4e1dd7bd93f84619802e4aae46b10c00",
       "version_major": 2,
       "version_minor": 0
      },
      "text/plain": [
       "WebGuiWidget(layout=Layout(height='50vh', width='100%'), value={'gui_settings': {}, 'ngsolve_version': '6.2.24…"
      ]
     },
     "metadata": {},
     "output_type": "display_data"
    },
    {
     "data": {
      "application/vnd.jupyter.widget-view+json": {
       "model_id": "e6388a90c03949dba1a9469a334b03e1",
       "version_major": 2,
       "version_minor": 0
      },
      "text/plain": [
       "WebGuiWidget(layout=Layout(height='50vh', width='100%'), value={'gui_settings': {}, 'ngsolve_version': '6.2.24…"
      ]
     },
     "metadata": {},
     "output_type": "display_data"
    },
    {
     "data": {
      "application/vnd.jupyter.widget-view+json": {
       "model_id": "4211c025cf0e4996b402ddf4c26a013e",
       "version_major": 2,
       "version_minor": 0
      },
      "text/plain": [
       "WebGuiWidget(layout=Layout(height='50vh', width='100%'), value={'gui_settings': {}, 'ngsolve_version': '6.2.24…"
      ]
     },
     "metadata": {},
     "output_type": "display_data"
    },
    {
     "name": "stdout",
     "output_type": "stream",
     "text": [
      "Time to get here -7.742426872253418\n",
      "LEVEL SET 5\n"
     ]
    },
    {
     "data": {
      "application/vnd.jupyter.widget-view+json": {
       "model_id": "8efad97a0e5d4fc6a2de35ed85672d9a",
       "version_major": 2,
       "version_minor": 0
      },
      "text/plain": [
       "WebGuiWidget(layout=Layout(height='50vh', width='100%'), value={'gui_settings': {}, 'ngsolve_version': '6.2.24…"
      ]
     },
     "metadata": {},
     "output_type": "display_data"
    },
    {
     "data": {
      "application/vnd.jupyter.widget-view+json": {
       "model_id": "37a4c5312c4f4856b57e0a7673dee294",
       "version_major": 2,
       "version_minor": 0
      },
      "text/plain": [
       "WebGuiWidget(layout=Layout(height='50vh', width='100%'), value={'gui_settings': {}, 'ngsolve_version': '6.2.24…"
      ]
     },
     "metadata": {},
     "output_type": "display_data"
    },
    {
     "data": {
      "application/vnd.jupyter.widget-view+json": {
       "model_id": "85b140c6aa58449d8c89c10169c7aa16",
       "version_major": 2,
       "version_minor": 0
      },
      "text/plain": [
       "WebGuiWidget(layout=Layout(height='50vh', width='100%'), value={'gui_settings': {}, 'ngsolve_version': '6.2.24…"
      ]
     },
     "metadata": {},
     "output_type": "display_data"
    },
    {
     "name": "stdout",
     "output_type": "stream",
     "text": [
      "Time to get here -42.704750061035156\n",
      "LEVEL SET 10\n"
     ]
    },
    {
     "data": {
      "application/vnd.jupyter.widget-view+json": {
       "model_id": "2d51909c7d8648c2abfb07af3b5952d7",
       "version_major": 2,
       "version_minor": 0
      },
      "text/plain": [
       "WebGuiWidget(layout=Layout(height='50vh', width='100%'), value={'gui_settings': {}, 'ngsolve_version': '6.2.24…"
      ]
     },
     "metadata": {},
     "output_type": "display_data"
    },
    {
     "data": {
      "application/vnd.jupyter.widget-view+json": {
       "model_id": "56c76d1f0b8a425fa75775d87fd0902e",
       "version_major": 2,
       "version_minor": 0
      },
      "text/plain": [
       "WebGuiWidget(layout=Layout(height='50vh', width='100%'), value={'gui_settings': {}, 'ngsolve_version': '6.2.24…"
      ]
     },
     "metadata": {},
     "output_type": "display_data"
    },
    {
     "data": {
      "application/vnd.jupyter.widget-view+json": {
       "model_id": "f1d133cff9c846fc8a47fc4662745e7f",
       "version_major": 2,
       "version_minor": 0
      },
      "text/plain": [
       "WebGuiWidget(layout=Layout(height='50vh', width='100%'), value={'gui_settings': {}, 'ngsolve_version': '6.2.24…"
      ]
     },
     "metadata": {},
     "output_type": "display_data"
    },
    {
     "name": "stdout",
     "output_type": "stream",
     "text": [
      "Time to get here -76.52353191375732\n",
      "LEVEL SET 15\n"
     ]
    },
    {
     "data": {
      "application/vnd.jupyter.widget-view+json": {
       "model_id": "0e35393744c04a429fc277de7de189ab",
       "version_major": 2,
       "version_minor": 0
      },
      "text/plain": [
       "WebGuiWidget(layout=Layout(height='50vh', width='100%'), value={'gui_settings': {}, 'ngsolve_version': '6.2.24…"
      ]
     },
     "metadata": {},
     "output_type": "display_data"
    },
    {
     "data": {
      "application/vnd.jupyter.widget-view+json": {
       "model_id": "d41e0d2b565d44bbb909a160b9c370f4",
       "version_major": 2,
       "version_minor": 0
      },
      "text/plain": [
       "WebGuiWidget(layout=Layout(height='50vh', width='100%'), value={'gui_settings': {}, 'ngsolve_version': '6.2.24…"
      ]
     },
     "metadata": {},
     "output_type": "display_data"
    },
    {
     "data": {
      "application/vnd.jupyter.widget-view+json": {
       "model_id": "d26b847106dd41ceb5e23bb8a82a2f4f",
       "version_major": 2,
       "version_minor": 0
      },
      "text/plain": [
       "WebGuiWidget(layout=Layout(height='50vh', width='100%'), value={'gui_settings': {}, 'ngsolve_version': '6.2.24…"
      ]
     },
     "metadata": {},
     "output_type": "display_data"
    },
    {
     "name": "stdout",
     "output_type": "stream",
     "text": [
      "Time to get here -118.17680239677429\n",
      "LEVEL SET 20\n"
     ]
    },
    {
     "data": {
      "application/vnd.jupyter.widget-view+json": {
       "model_id": "b5187a3347524138b16407abd4cb2d31",
       "version_major": 2,
       "version_minor": 0
      },
      "text/plain": [
       "WebGuiWidget(layout=Layout(height='50vh', width='100%'), value={'gui_settings': {}, 'ngsolve_version': '6.2.24…"
      ]
     },
     "metadata": {},
     "output_type": "display_data"
    },
    {
     "data": {
      "application/vnd.jupyter.widget-view+json": {
       "model_id": "a8c8671b3f154ad69e637b602bdd27d7",
       "version_major": 2,
       "version_minor": 0
      },
      "text/plain": [
       "WebGuiWidget(layout=Layout(height='50vh', width='100%'), value={'gui_settings': {}, 'ngsolve_version': '6.2.24…"
      ]
     },
     "metadata": {},
     "output_type": "display_data"
    },
    {
     "data": {
      "application/vnd.jupyter.widget-view+json": {
       "model_id": "77c926837a1f4ad9b3d46722a1a0b687",
       "version_major": 2,
       "version_minor": 0
      },
      "text/plain": [
       "WebGuiWidget(layout=Layout(height='50vh', width='100%'), value={'gui_settings': {}, 'ngsolve_version': '6.2.24…"
      ]
     },
     "metadata": {},
     "output_type": "display_data"
    },
    {
     "name": "stdout",
     "output_type": "stream",
     "text": [
      "Time to get here -159.47959995269775\n",
      "LEVEL SET 25\n"
     ]
    },
    {
     "data": {
      "application/vnd.jupyter.widget-view+json": {
       "model_id": "b2c3280d59b8444683c06801e8c8405c",
       "version_major": 2,
       "version_minor": 0
      },
      "text/plain": [
       "WebGuiWidget(layout=Layout(height='50vh', width='100%'), value={'gui_settings': {}, 'ngsolve_version': '6.2.24…"
      ]
     },
     "metadata": {},
     "output_type": "display_data"
    },
    {
     "data": {
      "application/vnd.jupyter.widget-view+json": {
       "model_id": "ad496c86525e4f4e90aadf04a7d5f3c2",
       "version_major": 2,
       "version_minor": 0
      },
      "text/plain": [
       "WebGuiWidget(layout=Layout(height='50vh', width='100%'), value={'gui_settings': {}, 'ngsolve_version': '6.2.24…"
      ]
     },
     "metadata": {},
     "output_type": "display_data"
    },
    {
     "data": {
      "application/vnd.jupyter.widget-view+json": {
       "model_id": "7092e1f627704c65baf4b4fee349a42f",
       "version_major": 2,
       "version_minor": 0
      },
      "text/plain": [
       "WebGuiWidget(layout=Layout(height='50vh', width='100%'), value={'gui_settings': {}, 'ngsolve_version': '6.2.24…"
      ]
     },
     "metadata": {},
     "output_type": "display_data"
    },
    {
     "name": "stdout",
     "output_type": "stream",
     "text": [
      "Time to get here -208.05785489082336\n"
     ]
    }
   ],
   "source": [
    "\n",
    "dt = CoefficientFunction(1e-4)\n",
    "dt_value = 1e-4\n",
    "\n",
    "h = specialcf.mesh_size\n",
    "t_curr= 0\n",
    "\n",
    "Umax_target = 0.42\n",
    "step, steps = 30, 1000\n",
    "spinup = 100\n",
    "start_time = time.time()\n",
    "freq = 50 #hz\n",
    "\n",
    "\n",
    "#arr = np.load(\"Navier_Stokes_GFU.npy\")   \n",
    "#u_p_old.vec.FV().NumPy()[:] = arr           # ← in-place copy\n",
    "#u_p.vec.FV().NumPy()[:] = arr           # ← in-place copy\n",
    "\n",
    "#phi_arr = np.load(\"Phi_Thin.npy\")   \n",
    "#phi.vec.FV().NumPy()[:] = phi_arr           # ← in-place copy\n",
    "\n",
    "\n",
    "# Your main loop with VOF update added:\n",
    "u_p.components[1].vec[:] = 0\n",
    "\n",
    "with TaskManager():\n",
    "    while step < steps:\n",
    "        # ------------------------------------------------------------------\n",
    "        # 1. UPDATE MATERIAL PROPERTIES\n",
    "        # ------------------------------------------------------------------\n",
    "\n",
    "    \n",
    "        t_curr += dt_value\n",
    "\n",
    "        S = ramp_scale(step,50,\"tanh\")\n",
    "        Sg = ramp_scale(step,50,\"tanh\")\n",
    "        \n",
    "        g = CoefficientFunction((0.0, Sg*-9.807))   # gravitational acceleration\n",
    "        \n",
    "        #jump = cosine_wave(t_curr,freq) * Umax_target + 1e-6\n",
    "\n",
    "        u_max = S * Umax_target #+ jump\n",
    "        \n",
    "        rho_smoothed = UpdateMaterialParameters(phi, rho_l, rho_g,0.3)\n",
    "        mu_smoothed = UpdateMaterialParameters(phi, mu_l, mu_g,0.3)\n",
    "\n",
    "        # ------------------------------------------------------------------\n",
    "        # 2. NAVIER–STOKES SOLVE (unchanged)\n",
    "        # -----------------------------------------------------------------\n",
    "\n",
    "\n",
    "        #COMPUTE PARABOLA FOR LIQ IN\n",
    "        xmin = 0.0 + 5e-5\n",
    "        xmax = 0.001\n",
    "        \n",
    "        xhat = (x - xmin) / (xmax - xmin)\n",
    "\n",
    "        parabola = IfPos(x - xmin,\n",
    "                 IfPos(xmax - x, 4 * xhat * (1 - xhat), 0),\n",
    "                 0)\n",
    "        \n",
    "        #COMPUTE PARABOLA FOR GAS IN\n",
    "        \n",
    "        xmin_g = 0.007\n",
    "        xmax_g = 0.010 - 5e-5\n",
    "        \n",
    "        xhat_g = (x - xmin_g) / (xmax_g - xmin_g)\n",
    "        \n",
    "        parabola_g = IfPos(x - xmin_g,\n",
    "                 IfPos(xmax_g - x, 4 * xhat_g * (1 - xhat_g), 0),\n",
    "                 0)\n",
    "        \n",
    "        uin = CoefficientFunction((0, -1*u_max*parabola))\n",
    "        uin_g = CoefficientFunction((0, 0.9*Sg*parabola_g))\n",
    "\n",
    "        u_bc = CF((\n",
    "            IfPos(0.002 - x, uin[0], uin_g[0]),  # x-component (both 0 in your case)\n",
    "            IfPos(0.002 - x, uin[1], uin_g[1])   # y-component\n",
    "        ))\n",
    "                \n",
    "        \n",
    "        A_ns = BuildNavierStokes(X, dt, v_test, q_test, u_trial, p_trial,\n",
    "                                u_p_old, rho_smoothed, mu_smoothed,g)\n",
    "        \n",
    "        #print(f\"[Step {step}]\")\n",
    "\n",
    "        u_p.components[0].Set(u_bc, definedon=mesh.Boundaries(\"Liq_Inlet|Gas_Inlet\"))\n",
    "        damp = 0.5\n",
    "        \n",
    "        Newton(A_ns, u_p,\n",
    "               freedofs=X.FreeDofs(),\n",
    "               maxit=12, maxerr=1e-8,\n",
    "               inverse=\"pardiso\", dampfactor=damp,\n",
    "               printing=True if step > 110 else False )\n",
    "\n",
    "        \n",
    "        u = u_p.components[0]\n",
    "\n",
    " \n",
    "        vel_cf = u                                # use solved velocity field\n",
    "\n",
    "        if step > spinup:\n",
    "            \n",
    "\n",
    "            A_ac = BuildAllenCahn(AC_space  = L,\n",
    "                                  dt        = dt_value,\n",
    "                                  vel_cf    = vel_cf,\n",
    "                                  tau       = 1,\n",
    "                                  phi_old   = phi_old,\n",
    "                                  eps       = 0.0001,)            \n",
    "            Newton(A_ac, phi,\n",
    "                   freedofs   = L.FreeDofs(),\n",
    "                   maxit      = 12,\n",
    "                   maxerr     = 1e-8,\n",
    "                   inverse    = \"pardiso\",\n",
    "                   dampfactor = 0.1,\n",
    "                   printing   = False)\n",
    "\n",
    "\n",
    "            ClampPhi(phi, lo=-1.0, hi=1.0)\n",
    "            # roll phase field forward\n",
    "            phi_old.vec.data = phi.vec.data\n",
    "            \n",
    "        if  step % 100 == 0 :\n",
    "            print(f'LEVEL SET {step}')\n",
    "            #DrawDC(phi_old,-1,1,mesh)\n",
    "            Draw(u_p.components[0][1],mesh)\n",
    "            Draw(u_p.components[1],mesh)\n",
    "            #DrawDC(phi_old,-1,1,mesh)\n",
    "            Draw(phi_old,mesh)\n",
    "            print(f\"Time to get here {start_time - time.time()}\")\n",
    "\n",
    "            \n",
    "        u_p_old.vec.data = u_p.vec.data\n",
    "        \n",
    "    \n",
    "        step += 1\n",
    "        #print(f\"Starting  Step {step+1}\")"
   ]
  },
  {
   "cell_type": "code",
   "execution_count": 16,
   "metadata": {},
   "outputs": [],
   "source": [
    "np.save(\"Phi_Thin.npy\", phi_old.vec.FV().NumPy())\n",
    "np.save(\"Matching_NS.npy\",u_p_old.vec.FV().NumPy())"
   ]
  },
  {
   "cell_type": "code",
   "execution_count": 17,
   "metadata": {},
   "outputs": [
    {
     "data": {
      "text/plain": [
       "np.float64(0.9990133642141358)"
      ]
     },
     "execution_count": 17,
     "metadata": {},
     "output_type": "execute_result"
    }
   ],
   "source": [
    "def cosine_wave(x, f):\n",
    "    phase_shift = 1 / (2 * f)  # shifts the cosine so it starts at zero\n",
    "    return 0.5 * (np.cos(2 * np.pi * f * (x - phase_shift)) + 1)\n",
    "\n",
    "\n",
    "cosine_wave(0.051,10)"
   ]
  },
  {
   "cell_type": "code",
   "execution_count": 18,
   "metadata": {},
   "outputs": [
    {
     "data": {
      "application/vnd.jupyter.widget-view+json": {
       "model_id": "e330935d8a17431fbe1ff7e23be85181",
       "version_major": 2,
       "version_minor": 0
      },
      "text/plain": [
       "WebGuiWidget(layout=Layout(height='50vh', width='100%'), value={'gui_settings': {}, 'ngsolve_version': '6.2.24…"
      ]
     },
     "metadata": {},
     "output_type": "display_data"
    },
    {
     "data": {
      "text/plain": [
       "BaseWebGuiScene"
      ]
     },
     "execution_count": 18,
     "metadata": {},
     "output_type": "execute_result"
    }
   ],
   "source": [
    "Draw(u_p_old.components[0])"
   ]
  },
  {
   "cell_type": "code",
   "execution_count": 19,
   "metadata": {},
   "outputs": [],
   "source": [
    "# Method 1: Gradient magnitude (most common)\n",
    "gradphi = grad(phi)\n",
    "gradphi_mag = sqrt(InnerProduct(gradphi, gradphi))  # small eps for regularization\n",
    "delta_interface = gradphi_mag  # This peaks sharply at φ=0\n",
    "\n",
    "# Method 2: Analytical delta approximation\n",
    "delta = (6.0 / (pi * eps)) * (phi*phi - 1.0)**2  # Remove the 0.25 and flip the sign logic# This is zero when |phi| ≈ 1, peaks when phi ≈ 0"
   ]
  },
  {
   "cell_type": "code",
   "execution_count": 20,
   "metadata": {},
   "outputs": [
    {
     "data": {
      "application/vnd.jupyter.widget-view+json": {
       "model_id": "34af3c4e0b4c4dd1b1267a2f675901de",
       "version_major": 2,
       "version_minor": 0
      },
      "text/plain": [
       "WebGuiWidget(layout=Layout(height='50vh', width='100%'), value={'gui_settings': {}, 'ngsolve_version': '6.2.24…"
      ]
     },
     "metadata": {},
     "output_type": "display_data"
    },
    {
     "data": {
      "text/plain": [
       "BaseWebGuiScene"
      ]
     },
     "execution_count": 20,
     "metadata": {},
     "output_type": "execute_result"
    }
   ],
   "source": [
    "Draw(delta,mesh)"
   ]
  },
  {
   "cell_type": "code",
   "execution_count": 21,
   "metadata": {},
   "outputs": [
    {
     "data": {
      "application/vnd.jupyter.widget-view+json": {
       "model_id": "2dc5e056d79745399e0cb1b3800dc4c8",
       "version_major": 2,
       "version_minor": 0
      },
      "text/plain": [
       "WebGuiWidget(layout=Layout(height='50vh', width='100%'), value={'gui_settings': {}, 'ngsolve_version': '6.2.24…"
      ]
     },
     "metadata": {},
     "output_type": "display_data"
    },
    {
     "data": {
      "text/plain": [
       "BaseWebGuiScene"
      ]
     },
     "execution_count": 21,
     "metadata": {},
     "output_type": "execute_result"
    }
   ],
   "source": [
    "Draw(grad(phi),mesh)"
   ]
  },
  {
   "cell_type": "code",
   "execution_count": 22,
   "metadata": {},
   "outputs": [],
   "source": [
    "# Your smooth analytical delta function  \n",
    "delta = (1.5 / eps) * IfPos(1 - phi*phi, 1 - phi*phi, 0)\n",
    "\n",
    "# Analytical gradient: grad(delta) = grad((1.5/eps)(1-φ²))\n",
    "#                                  = (1.5/eps) * grad(1-φ²) \n",
    "#                                  = (1.5/eps) * (-2φ) * grad(φ)\n",
    "gradphi = grad(phi)\n",
    "grad_delta_analytical = (1.5 / eps) * (-2 * phi) * gradphi\n",
    "\n",
    "# Now get normal from this smooth analytical gradient\n",
    "grad_delta_mag = sqrt(InnerProduct(grad_delta_analytical, grad_delta_analytical) + 1e-12)\n",
    "normal = grad_delta_analytical / grad_delta_mag\n",
    "\n",
    "# 2D curvature from the smooth normal\n",
    "n_x = normal[0]\n",
    "n_y = normal[1]\n",
    "curvature = n_x.Diff(x) + n_y.Diff(y)\n",
    "\n",
    "# Surface tension force\n",
    "F_surface = 0.072 * curvature * delta * normal"
   ]
  },
  {
   "cell_type": "code",
   "execution_count": 23,
   "metadata": {},
   "outputs": [
    {
     "data": {
      "application/vnd.jupyter.widget-view+json": {
       "model_id": "7bb6876af0644ebcbaff52c1945b3086",
       "version_major": 2,
       "version_minor": 0
      },
      "text/plain": [
       "WebGuiWidget(layout=Layout(height='50vh', width='100%'), value={'gui_settings': {}, 'ngsolve_version': '6.2.24…"
      ]
     },
     "metadata": {},
     "output_type": "display_data"
    },
    {
     "data": {
      "text/plain": [
       "BaseWebGuiScene"
      ]
     },
     "execution_count": 23,
     "metadata": {},
     "output_type": "execute_result"
    }
   ],
   "source": [
    "Draw(grad_delta_mag,mesh)"
   ]
  },
  {
   "cell_type": "code",
   "execution_count": 24,
   "metadata": {},
   "outputs": [
    {
     "data": {
      "application/vnd.jupyter.widget-view+json": {
       "model_id": "b56a0920120147cea987593fd5a8447c",
       "version_major": 2,
       "version_minor": 0
      },
      "text/plain": [
       "WebGuiWidget(layout=Layout(height='50vh', width='100%'), value={'gui_settings': {}, 'ngsolve_version': '6.2.24…"
      ]
     },
     "metadata": {},
     "output_type": "display_data"
    },
    {
     "data": {
      "text/plain": [
       "BaseWebGuiScene"
      ]
     },
     "execution_count": 24,
     "metadata": {},
     "output_type": "execute_result"
    }
   ],
   "source": [
    "Draw(normal,mesh)"
   ]
  },
  {
   "cell_type": "code",
   "execution_count": 25,
   "metadata": {},
   "outputs": [
    {
     "data": {
      "application/vnd.jupyter.widget-view+json": {
       "model_id": "d62986b89f984641a2f397f1d149d0a7",
       "version_major": 2,
       "version_minor": 0
      },
      "text/plain": [
       "WebGuiWidget(layout=Layout(height='50vh', width='100%'), value={'gui_settings': {}, 'ngsolve_version': '6.2.24…"
      ]
     },
     "metadata": {},
     "output_type": "display_data"
    },
    {
     "data": {
      "text/plain": [
       "BaseWebGuiScene"
      ]
     },
     "execution_count": 25,
     "metadata": {},
     "output_type": "execute_result"
    }
   ],
   "source": [
    "Draw(phi_old,mesh)"
   ]
  },
  {
   "cell_type": "code",
   "execution_count": 26,
   "metadata": {
    "scrolled": true
   },
   "outputs": [
    {
     "data": {
      "application/vnd.jupyter.widget-view+json": {
       "model_id": "1388ba99f3c14083815a3a175e291303",
       "version_major": 2,
       "version_minor": 0
      },
      "text/plain": [
       "WebGuiWidget(layout=Layout(height='50vh', width='100%'), value={'gui_settings': {}, 'ngsolve_version': '6.2.24…"
      ]
     },
     "metadata": {},
     "output_type": "display_data"
    },
    {
     "data": {
      "text/plain": [
       "BaseWebGuiScene"
      ]
     },
     "execution_count": 26,
     "metadata": {},
     "output_type": "execute_result"
    }
   ],
   "source": [
    "Draw(u_p_old.components[1],mesh)"
   ]
  },
  {
   "cell_type": "code",
   "execution_count": null,
   "metadata": {},
   "outputs": [],
   "source": []
  }
 ],
 "metadata": {
  "kernelspec": {
   "display_name": "Python 3 (ipykernel)",
   "language": "python",
   "name": "python3"
  },
  "language_info": {
   "codemirror_mode": {
    "name": "ipython",
    "version": 3
   },
   "file_extension": ".py",
   "mimetype": "text/x-python",
   "name": "python",
   "nbconvert_exporter": "python",
   "pygments_lexer": "ipython3",
   "version": "3.11.2"
  }
 },
 "nbformat": 4,
 "nbformat_minor": 4
}
